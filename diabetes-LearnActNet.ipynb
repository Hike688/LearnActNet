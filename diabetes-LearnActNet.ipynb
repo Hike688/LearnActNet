{
 "cells": [
  {
   "cell_type": "code",
   "execution_count": 209,
   "metadata": {
    "colab": {
     "base_uri": "https://localhost:8080/"
    },
    "id": "PetSD0sotuqk",
    "outputId": "c3683e54-a639-499a-c16d-5ed46c53488e"
   },
   "outputs": [
    {
     "name": "stdout",
     "output_type": "stream",
     "text": [
      "2.15.0\n"
     ]
    }
   ],
   "source": [
    "import tensorflow as tf\n",
    "import numpy as np\n",
    "import pandas as pd\n",
    "import matplotlib.pyplot as plt\n",
    "%matplotlib inline\n",
    "import tensorflow as tf\n",
    "from datetime import datetime\n",
    "from tensorflow import keras\n",
    "from keras.layers import Dense\n",
    "from sklearn import metrics\n",
    "from tensorflow.keras import layers\n",
    "from tensorflow.python.keras.utils import np_utils\n",
    "from sklearn.model_selection import KFold\n",
    "from keras.callbacks import ModelCheckpoint\n",
    "from sklearn.metrics import roc_curve, auc\n",
    "from sklearn.pipeline import Pipeline\n",
    "# multi-class classification with Keras\n",
    "from keras.models import Sequential\n",
    "from sklearn.preprocessing import LabelEncoder\n",
    "from tensorflow.python.keras.utils.np_utils import to_categorical\n",
    "from sklearn.model_selection import train_test_split\n",
    "from sklearn.model_selection import cross_val_score\n",
    "# from keras.wrappers.scikit_learn import KerasClassifier\n",
    "# from tensorflow.keras.wrappers.scikit_learn import KerasClassifier\n",
    "from tensorflow.keras.layers.experimental import preprocessing\n",
    "from sklearn.metrics import confusion_matrix, classification_report, accuracy_score\n",
    "from imblearn.over_sampling import SMOTE\n",
    "print(tf.__version__)"
   ]
  },
  {
   "cell_type": "code",
   "execution_count": null,
   "metadata": {},
   "outputs": [],
   "source": []
  },
  {
   "cell_type": "code",
   "execution_count": 210,
   "metadata": {
    "colab": {
     "base_uri": "https://localhost:8080/",
     "height": 206
    },
    "id": "mvnIrm5_v8d2",
    "outputId": "28cf4d96-9e89-4610-b672-613973649a1a"
   },
   "outputs": [
    {
     "data": {
      "text/html": [
       "<div>\n",
       "<style scoped>\n",
       "    .dataframe tbody tr th:only-of-type {\n",
       "        vertical-align: middle;\n",
       "    }\n",
       "\n",
       "    .dataframe tbody tr th {\n",
       "        vertical-align: top;\n",
       "    }\n",
       "\n",
       "    .dataframe thead th {\n",
       "        text-align: right;\n",
       "    }\n",
       "</style>\n",
       "<table border=\"1\" class=\"dataframe\">\n",
       "  <thead>\n",
       "    <tr style=\"text-align: right;\">\n",
       "      <th></th>\n",
       "      <th>Glucose</th>\n",
       "      <th>BloodPressure</th>\n",
       "      <th>Insulin</th>\n",
       "      <th>Age</th>\n",
       "      <th>Outcome</th>\n",
       "    </tr>\n",
       "  </thead>\n",
       "  <tbody>\n",
       "    <tr>\n",
       "      <th>0</th>\n",
       "      <td>89</td>\n",
       "      <td>66</td>\n",
       "      <td>94</td>\n",
       "      <td>21</td>\n",
       "      <td>0</td>\n",
       "    </tr>\n",
       "    <tr>\n",
       "      <th>1</th>\n",
       "      <td>137</td>\n",
       "      <td>40</td>\n",
       "      <td>168</td>\n",
       "      <td>33</td>\n",
       "      <td>2</td>\n",
       "    </tr>\n",
       "    <tr>\n",
       "      <th>2</th>\n",
       "      <td>78</td>\n",
       "      <td>50</td>\n",
       "      <td>88</td>\n",
       "      <td>26</td>\n",
       "      <td>0</td>\n",
       "    </tr>\n",
       "    <tr>\n",
       "      <th>3</th>\n",
       "      <td>197</td>\n",
       "      <td>70</td>\n",
       "      <td>543</td>\n",
       "      <td>53</td>\n",
       "      <td>2</td>\n",
       "    </tr>\n",
       "    <tr>\n",
       "      <th>4</th>\n",
       "      <td>189</td>\n",
       "      <td>60</td>\n",
       "      <td>846</td>\n",
       "      <td>59</td>\n",
       "      <td>2</td>\n",
       "    </tr>\n",
       "    <tr>\n",
       "      <th>...</th>\n",
       "      <td>...</td>\n",
       "      <td>...</td>\n",
       "      <td>...</td>\n",
       "      <td>...</td>\n",
       "      <td>...</td>\n",
       "    </tr>\n",
       "    <tr>\n",
       "      <th>95</th>\n",
       "      <td>109</td>\n",
       "      <td>64</td>\n",
       "      <td>99</td>\n",
       "      <td>26</td>\n",
       "      <td>1</td>\n",
       "    </tr>\n",
       "    <tr>\n",
       "      <th>96</th>\n",
       "      <td>148</td>\n",
       "      <td>60</td>\n",
       "      <td>318</td>\n",
       "      <td>29</td>\n",
       "      <td>2</td>\n",
       "    </tr>\n",
       "    <tr>\n",
       "      <th>97</th>\n",
       "      <td>99</td>\n",
       "      <td>70</td>\n",
       "      <td>44</td>\n",
       "      <td>27</td>\n",
       "      <td>0</td>\n",
       "    </tr>\n",
       "    <tr>\n",
       "      <th>98</th>\n",
       "      <td>103</td>\n",
       "      <td>72</td>\n",
       "      <td>190</td>\n",
       "      <td>55</td>\n",
       "      <td>1</td>\n",
       "    </tr>\n",
       "    <tr>\n",
       "      <th>99</th>\n",
       "      <td>196</td>\n",
       "      <td>76</td>\n",
       "      <td>280</td>\n",
       "      <td>57</td>\n",
       "      <td>2</td>\n",
       "    </tr>\n",
       "  </tbody>\n",
       "</table>\n",
       "<p>100 rows × 5 columns</p>\n",
       "</div>"
      ],
      "text/plain": [
       "    Glucose  BloodPressure  Insulin  Age  Outcome\n",
       "0        89             66       94   21        0\n",
       "1       137             40      168   33        2\n",
       "2        78             50       88   26        0\n",
       "3       197             70      543   53        2\n",
       "4       189             60      846   59        2\n",
       "..      ...            ...      ...  ...      ...\n",
       "95      109             64       99   26        1\n",
       "96      148             60      318   29        2\n",
       "97       99             70       44   27        0\n",
       "98      103             72      190   55        1\n",
       "99      196             76      280   57        2\n",
       "\n",
       "[100 rows x 5 columns]"
      ]
     },
     "execution_count": 210,
     "metadata": {},
     "output_type": "execute_result"
    }
   ],
   "source": [
    "# Read in data as pandas dataframe and display first 5 rows\n",
    "data = pd.read_csv('diabetesmerge.csv')\n",
    "data.head(100)"
   ]
  },
  {
   "cell_type": "code",
   "execution_count": 211,
   "metadata": {
    "id": "uR3K6GUmYniD"
   },
   "outputs": [],
   "source": [
    "#One hot encoding\n",
    "labels = data['Outcome']\n",
    "# encode class values as integers\n",
    "encoder = LabelEncoder()\n",
    " "
   ]
  },
  {
   "cell_type": "code",
   "execution_count": 212,
   "metadata": {},
   "outputs": [],
   "source": [
    "\n",
    "encoder.fit(labels)\n",
    "encoded_Y = encoder.transform(labels)"
   ]
  },
  {
   "cell_type": "code",
   "execution_count": 213,
   "metadata": {},
   "outputs": [],
   "source": [
    "\n",
    "# convert integers to dummy variables (i.e. one hot encoded)\n",
    "dummy_y = to_categorical(encoded_Y)"
   ]
  },
  {
   "cell_type": "code",
   "execution_count": 214,
   "metadata": {},
   "outputs": [
    {
     "data": {
      "text/plain": [
       "array([[1., 0., 0.],\n",
       "       [0., 0., 1.],\n",
       "       [1., 0., 0.],\n",
       "       ...,\n",
       "       [0., 1., 0.],\n",
       "       [0., 0., 1.],\n",
       "       [1., 0., 0.]], dtype=float32)"
      ]
     },
     "execution_count": 214,
     "metadata": {},
     "output_type": "execute_result"
    }
   ],
   "source": [
    "dummy_y"
   ]
  },
  {
   "cell_type": "code",
   "execution_count": 215,
   "metadata": {
    "id": "hK12mL2wOnGO"
   },
   "outputs": [],
   "source": [
    "# Remove the labels from the features\n",
    "# axis 1 refers to the columns\n",
    "data= data.drop('Outcome', axis = 1)\n",
    "\n",
    "# Saving feature names for later use\n",
    "data_list = list(data.columns)\n",
    "\n",
    "# Convert to numpy array\n",
    "data = np.array(data)"
   ]
  },
  {
   "cell_type": "code",
   "execution_count": null,
   "metadata": {},
   "outputs": [],
   "source": []
  },
  {
   "cell_type": "code",
   "execution_count": 216,
   "metadata": {},
   "outputs": [
    {
     "data": {
      "text/plain": [
       "(728, 4)"
      ]
     },
     "execution_count": 216,
     "metadata": {},
     "output_type": "execute_result"
    }
   ],
   "source": [
    "data.shape"
   ]
  },
  {
   "cell_type": "code",
   "execution_count": 217,
   "metadata": {},
   "outputs": [
    {
     "data": {
      "text/plain": [
       "(728, 3)"
      ]
     },
     "execution_count": 217,
     "metadata": {},
     "output_type": "execute_result"
    }
   ],
   "source": [
    "dummy_y.shape"
   ]
  },
  {
   "cell_type": "code",
   "execution_count": 218,
   "metadata": {},
   "outputs": [
    {
     "name": "stdout",
     "output_type": "stream",
     "text": [
      "Training Features Shape: (606, 4)\n",
      "Training Labels Shape: (606, 3)\n",
      "Testing Features Shape: (110, 4)\n",
      "Testing Labels Shape: (110, 3)\n",
      "Validation Features Shape: (109, 4)\n",
      "Validation Label Shape: (109, 3)\n"
     ]
    }
   ],
   "source": [
    "# Split the data into training and testing sets\n",
    "train_features, val_test_features, train_labels, val_test_labels = train_test_split(data, dummy_y, test_size = 0.3,\n",
    "                                                                           shuffle=True, random_state = 42)\n",
    "train_features,train_labels = SMOTE().fit_resample(train_features, train_labels)\n",
    "X_val, X_test, Y_val, Y_test = train_test_split(val_test_features, val_test_labels, test_size=0.5, shuffle=True, random_state=42)\n",
    "print('Training Features Shape:', train_features.shape)\n",
    "print('Training Labels Shape:', train_labels.shape)\n",
    "print('Testing Features Shape:', X_test.shape)\n",
    "print('Testing Labels Shape:', Y_test.shape)\n",
    "print('Validation Features Shape:', X_val.shape)\n",
    "print('Validation Label Shape:', Y_val.shape)"
   ]
  },
  {
   "cell_type": "code",
   "execution_count": 219,
   "metadata": {
    "colab": {
     "base_uri": "https://localhost:8080/"
    },
    "id": "NTXpSGB_SeNu",
    "outputId": "7ce06e92-3eba-406a-fbb7-7ca2fb2859ea"
   },
   "outputs": [
    {
     "name": "stdout",
     "output_type": "stream",
     "text": [
      "[[116.5924    71.382835  75.02969   32.813534]]\n",
      "First example: [[147  75   0  28]]\n",
      "\n",
      "Normalized: [[ 0.99  0.3  -0.72 -0.41]]\n"
     ]
    }
   ],
   "source": [
    "normalizer = preprocessing.Normalization(axis=-1)\n",
    "normalizer.adapt(np.array(train_features))\n",
    "\n",
    "print(normalizer.mean.numpy())\n",
    "\n",
    "first = np.array(train_features[:1])\n",
    "\n",
    "with np.printoptions(precision=2, suppress=True):\n",
    "  print('First example:', first)\n",
    "  print()\n",
    "  print('Normalized:', normalizer(first).numpy())"
   ]
  },
  {
   "cell_type": "code",
   "execution_count": 220,
   "metadata": {},
   "outputs": [],
   "source": [
    "class CustomReLU(layers.Layer):\n",
    "    def __init__(self):\n",
    "        super(CustomReLU, self).__init__()\n",
    "\n",
    "    def call(self, inputs):\n",
    "        return tf.maximum(0.0, inputs)"
   ]
  },
  {
   "cell_type": "code",
   "execution_count": 221,
   "metadata": {},
   "outputs": [],
   "source": [
    "class MetaAconC(tf.keras.layers.Layer):\n",
    "    def __init__(self, r=16):\n",
    "        super(MetaAconC, self).__init__()\n",
    "        self.fc1 = tf.keras.layers.Dense(r, use_bias=False)\n",
    "        self.fc2 = tf.keras.layers.Dense(1, use_bias=False)\n",
    "\n",
    "        self.p1 = tf.Variable(tf.random.normal((1, 1)))\n",
    "        self.p2 = tf.Variable(tf.random.normal((1, 1)))\n",
    "\n",
    "        self.sigmoid = tf.keras.layers.Activation('sigmoid')\n",
    "\n",
    "    def call(self, x, **kwargs):\n",
    "        x_mean = tf.reduce_mean(x, axis=1, keepdims=True)\n",
    "        beta = self.sigmoid(self.fc2(self.fc1(x_mean)))\n",
    "        return (self.p1 * x - self.p2 * x) * self.sigmoid(beta * (self.p1 * x - self.p2 * x)) + self.p2 * x"
   ]
  },
  {
   "cell_type": "code",
   "execution_count": 222,
   "metadata": {},
   "outputs": [],
   "source": [
    "def custom_loss_with_l2(y_true, y_pred):\n",
    "    l2_loss = tf.add_n([tf.nn.l2_loss(v) for v in model1.trainable_variables if 'kernel' in v.name])\n",
    "    cross_entropy_loss = tf.reduce_mean(tf.keras.losses.categorical_crossentropy(y_true, y_pred))\n",
    "    total_loss = cross_entropy_loss + 0.01 * l2_loss  # 设置L2正则化系数为0.01\n",
    "    return total_loss"
   ]
  },
  {
   "cell_type": "code",
   "execution_count": 223,
   "metadata": {},
   "outputs": [],
   "source": [
    "import tensorflow as tf\n",
    "\n",
    "class Swish(tf.keras.layers.Layer):\n",
    "    def __init__(self):\n",
    "        super(Swish, self).__init__()\n",
    "\n",
    "    def call(self, inputs):\n",
    "        return tf.keras.activations.swish(inputs)"
   ]
  },
  {
   "cell_type": "markdown",
   "metadata": {
    "id": "BEtcQb6OCutw"
   },
   "source": [
    "main model designed"
   ]
  },
  {
   "cell_type": "code",
   "execution_count": 224,
   "metadata": {},
   "outputs": [],
   "source": [
    "class Atten_model(tf.keras.layers.Layer):\n",
    "    def __init__(self, in_dim, out_dim):\n",
    "        super(Atten_model, self).__init__()\n",
    "        self.k = tf.keras.layers.Dense(in_dim)\n",
    "        self.q = tf.keras.layers.Dense(in_dim)\n",
    "        self.v = tf.keras.layers.Dense(in_dim)\n",
    "        self.proj = tf.keras.layers.Dense(out_dim)\n",
    "        self.proj_drop = tf.keras.layers.Dropout(0.6)\n",
    "        self.GELU = MetaAconC()\n",
    "    def call(self, x):\n",
    "        # k q v 均将x从in_dim转变为out_dim，特征拓展、特征对应一个权重\n",
    "        k = self.k(x)\n",
    "        q = self.q(x)\n",
    "        v = self.v(x)\n",
    "        # 点乘计算注意力\n",
    "        atten = tf.nn.softmax((k * q) / tf.math.sqrt(tf.cast(v.shape[1], dtype=tf.float32)), axis=1)\n",
    "        # 特征值\n",
    "        out = self.proj(self.GELU(atten * v))\n",
    "        return out"
   ]
  },
  {
   "cell_type": "code",
   "execution_count": 225,
   "metadata": {
    "id": "EK0nJ2v_gcvD"
   },
   "outputs": [],
   "source": [
    "#create model_2GDNN\n",
    "def create_model(data):\n",
    "  model = keras.Sequential([\n",
    "      data,\n",
    "      Atten_model(4, 4),\n",
    "#       layers.Dense(8),\n",
    "#       MetaAconC(),\n",
    "      layers.Dense(8),\n",
    "      MetaAconC(),\n",
    "      layers.Dense(16),\n",
    "#      MetaAconC(),\n",
    "#       layers.Dense(16),\n",
    "     MetaAconC(),\n",
    "      layers.Dense(3, activation=\"softmax\")\n",
    "  ])\n",
    "  model.compile(loss=custom_loss_with_l2, optimizer='RMSprop', metrics=['accuracy'])\n",
    "  return model"
   ]
  },
  {
   "cell_type": "code",
   "execution_count": 226,
   "metadata": {},
   "outputs": [
    {
     "data": {
      "text/plain": [
       "<keras.src.layers.preprocessing.normalization.Normalization at 0x188667033d0>"
      ]
     },
     "execution_count": 226,
     "metadata": {},
     "output_type": "execute_result"
    }
   ],
   "source": [
    "normalizer"
   ]
  },
  {
   "cell_type": "code",
   "execution_count": 227,
   "metadata": {
    "id": "hwVD2m2O5vj_"
   },
   "outputs": [],
   "source": [
    "model1 = create_model(normalizer)"
   ]
  },
  {
   "cell_type": "code",
   "execution_count": 228,
   "metadata": {
    "colab": {
     "base_uri": "https://localhost:8080/"
    },
    "id": "dYarqPr96y0T",
    "outputId": "44c76026-3bf5-4c3e-eeb5-a4c62a7a327e"
   },
   "outputs": [
    {
     "name": "stdout",
     "output_type": "stream",
     "text": [
      "Model: \"sequential_11\"\n",
      "_________________________________________________________________\n",
      " Layer (type)                Output Shape              Param #   \n",
      "=================================================================\n",
      " normalization_3 (Normaliza  (None, 4)                 9         \n",
      " tion)                                                           \n",
      "                                                                 \n",
      " atten_model_11 (Atten_mode  (None, 4)                 114       \n",
      " l)                                                              \n",
      "                                                                 \n",
      " dense_167 (Dense)           (None, 8)                 40        \n",
      "                                                                 \n",
      " meta_acon_c_38 (MetaAconC)  (None, 8)                 34        \n",
      "                                                                 \n",
      " dense_170 (Dense)           (None, 16)                144       \n",
      "                                                                 \n",
      " meta_acon_c_39 (MetaAconC)  (None, 16)                34        \n",
      "                                                                 \n",
      " dense_173 (Dense)           (None, 3)                 51        \n",
      "                                                                 \n",
      "=================================================================\n",
      "Total params: 426 (1.67 KB)\n",
      "Trainable params: 417 (1.63 KB)\n",
      "Non-trainable params: 9 (40.00 Byte)\n",
      "_________________________________________________________________\n"
     ]
    }
   ],
   "source": [
    "model1.summary()"
   ]
  },
  {
   "cell_type": "code",
   "execution_count": 229,
   "metadata": {},
   "outputs": [
    {
     "data": {
      "text/plain": [
       "(array([[147,  75,   0,  28],\n",
       "        [120,  86,   0,  22],\n",
       "        [103,  72, 152,  27],\n",
       "        ...,\n",
       "        [113,  51,  85,  24],\n",
       "        [103,  66,   0,  29],\n",
       "        [109,  56, 134,  23]], dtype=int64),\n",
       " array([[0, 0, 1],\n",
       "        [0, 1, 0],\n",
       "        [0, 1, 0],\n",
       "        ...,\n",
       "        [0, 1, 0],\n",
       "        [0, 1, 0],\n",
       "        [0, 1, 0]]))"
      ]
     },
     "execution_count": 229,
     "metadata": {},
     "output_type": "execute_result"
    }
   ],
   "source": [
    "train_features,train_labels"
   ]
  },
  {
   "cell_type": "code",
   "execution_count": 230,
   "metadata": {
    "colab": {
     "base_uri": "https://localhost:8080/"
    },
    "id": "3gyI2JTkVs9X",
    "outputId": "7e9bae75-79d8-4fb2-f668-9f5d9c3a8387"
   },
   "outputs": [
    {
     "name": "stdout",
     "output_type": "stream",
     "text": [
      "Epoch 1/200\n",
      "16/19 [========================>.....] - ETA: 0s - loss: 1.3223 - accuracy: 0.1426 WARNING:tensorflow:Skipping full serialization of Keras layer <keras.src.layers.regularization.dropout.Dropout object at 0x0000018873F69610>, because it is not built.\n"
     ]
    },
    {
     "name": "stderr",
     "output_type": "stream",
     "text": [
      "WARNING:tensorflow:Skipping full serialization of Keras layer <keras.src.layers.regularization.dropout.Dropout object at 0x0000018873F69610>, because it is not built.\n"
     ]
    },
    {
     "name": "stdout",
     "output_type": "stream",
     "text": [
      "INFO:tensorflow:Assets written to: output\\bestmodel.tf\\assets\n"
     ]
    },
    {
     "name": "stderr",
     "output_type": "stream",
     "text": [
      "INFO:tensorflow:Assets written to: output\\bestmodel.tf\\assets\n"
     ]
    },
    {
     "name": "stdout",
     "output_type": "stream",
     "text": [
      "19/19 [==============================] - 4s 98ms/step - loss: 1.3200 - accuracy: 0.1601 - val_loss: 1.3057 - val_accuracy: 0.3028\n",
      "Epoch 2/200\n",
      " 1/19 [>.............................] - ETA: 0s - loss: 1.3073 - accuracy: 0.2500WARNING:tensorflow:Skipping full serialization of Keras layer <keras.src.layers.regularization.dropout.Dropout object at 0x0000018873F69610>, because it is not built.\n"
     ]
    },
    {
     "name": "stderr",
     "output_type": "stream",
     "text": [
      "WARNING:tensorflow:Skipping full serialization of Keras layer <keras.src.layers.regularization.dropout.Dropout object at 0x0000018873F69610>, because it is not built.\n"
     ]
    },
    {
     "name": "stdout",
     "output_type": "stream",
     "text": [
      "INFO:tensorflow:Assets written to: output\\bestmodel.tf\\assets\n"
     ]
    },
    {
     "name": "stderr",
     "output_type": "stream",
     "text": [
      "INFO:tensorflow:Assets written to: output\\bestmodel.tf\\assets\n"
     ]
    },
    {
     "name": "stdout",
     "output_type": "stream",
     "text": [
      "19/19 [==============================] - 2s 133ms/step - loss: 1.2961 - accuracy: 0.3449 - val_loss: 1.2850 - val_accuracy: 0.4771\n",
      "Epoch 3/200\n",
      " 1/19 [>.............................] - ETA: 0s - loss: 1.2916 - accuracy: 0.3125WARNING:tensorflow:Skipping full serialization of Keras layer <keras.src.layers.regularization.dropout.Dropout object at 0x0000018873F69610>, because it is not built.\n"
     ]
    },
    {
     "name": "stderr",
     "output_type": "stream",
     "text": [
      "WARNING:tensorflow:Skipping full serialization of Keras layer <keras.src.layers.regularization.dropout.Dropout object at 0x0000018873F69610>, because it is not built.\n"
     ]
    },
    {
     "name": "stdout",
     "output_type": "stream",
     "text": [
      "INFO:tensorflow:Assets written to: output\\bestmodel.tf\\assets\n"
     ]
    },
    {
     "name": "stderr",
     "output_type": "stream",
     "text": [
      "INFO:tensorflow:Assets written to: output\\bestmodel.tf\\assets\n"
     ]
    },
    {
     "name": "stdout",
     "output_type": "stream",
     "text": [
      "19/19 [==============================] - 2s 86ms/step - loss: 1.2760 - accuracy: 0.5132 - val_loss: 1.2639 - val_accuracy: 0.5138\n",
      "Epoch 4/200\n",
      "13/19 [===================>..........] - ETA: 0s - loss: 1.2581 - accuracy: 0.5192WARNING:tensorflow:Skipping full serialization of Keras layer <keras.src.layers.regularization.dropout.Dropout object at 0x0000018873F69610>, because it is not built.\n"
     ]
    },
    {
     "name": "stderr",
     "output_type": "stream",
     "text": [
      "WARNING:tensorflow:Skipping full serialization of Keras layer <keras.src.layers.regularization.dropout.Dropout object at 0x0000018873F69610>, because it is not built.\n"
     ]
    },
    {
     "name": "stdout",
     "output_type": "stream",
     "text": [
      "INFO:tensorflow:Assets written to: output\\bestmodel.tf\\assets\n"
     ]
    },
    {
     "name": "stderr",
     "output_type": "stream",
     "text": [
      "INFO:tensorflow:Assets written to: output\\bestmodel.tf\\assets\n"
     ]
    },
    {
     "name": "stdout",
     "output_type": "stream",
     "text": [
      "19/19 [==============================] - 2s 86ms/step - loss: 1.2542 - accuracy: 0.5132 - val_loss: 1.2381 - val_accuracy: 0.5138\n",
      "Epoch 5/200\n",
      " 1/19 [>.............................] - ETA: 0s - loss: 1.2537 - accuracy: 0.4375WARNING:tensorflow:Skipping full serialization of Keras layer <keras.src.layers.regularization.dropout.Dropout object at 0x0000018873F69610>, because it is not built.\n"
     ]
    },
    {
     "name": "stderr",
     "output_type": "stream",
     "text": [
      "WARNING:tensorflow:Skipping full serialization of Keras layer <keras.src.layers.regularization.dropout.Dropout object at 0x0000018873F69610>, because it is not built.\n"
     ]
    },
    {
     "name": "stdout",
     "output_type": "stream",
     "text": [
      "INFO:tensorflow:Assets written to: output\\bestmodel.tf\\assets\n"
     ]
    },
    {
     "name": "stderr",
     "output_type": "stream",
     "text": [
      "INFO:tensorflow:Assets written to: output\\bestmodel.tf\\assets\n"
     ]
    },
    {
     "name": "stdout",
     "output_type": "stream",
     "text": [
      "19/19 [==============================] - 2s 86ms/step - loss: 1.2264 - accuracy: 0.5380 - val_loss: 1.2045 - val_accuracy: 0.5138\n",
      "Epoch 6/200\n",
      " 1/19 [>.............................] - ETA: 0s - loss: 1.1580 - accuracy: 0.5625WARNING:tensorflow:Skipping full serialization of Keras layer <keras.src.layers.regularization.dropout.Dropout object at 0x0000018873F69610>, because it is not built.\n"
     ]
    },
    {
     "name": "stderr",
     "output_type": "stream",
     "text": [
      "WARNING:tensorflow:Skipping full serialization of Keras layer <keras.src.layers.regularization.dropout.Dropout object at 0x0000018873F69610>, because it is not built.\n"
     ]
    },
    {
     "name": "stdout",
     "output_type": "stream",
     "text": [
      "INFO:tensorflow:Assets written to: output\\bestmodel.tf\\assets\n"
     ]
    },
    {
     "name": "stderr",
     "output_type": "stream",
     "text": [
      "INFO:tensorflow:Assets written to: output\\bestmodel.tf\\assets\n"
     ]
    },
    {
     "name": "stdout",
     "output_type": "stream",
     "text": [
      "19/19 [==============================] - 1s 79ms/step - loss: 1.1926 - accuracy: 0.5330 - val_loss: 1.1681 - val_accuracy: 0.5505\n",
      "Epoch 7/200\n",
      " 1/19 [>.............................] - ETA: 0s - loss: 1.1463 - accuracy: 0.5625WARNING:tensorflow:Skipping full serialization of Keras layer <keras.src.layers.regularization.dropout.Dropout object at 0x0000018873F69610>, because it is not built.\n"
     ]
    },
    {
     "name": "stderr",
     "output_type": "stream",
     "text": [
      "WARNING:tensorflow:Skipping full serialization of Keras layer <keras.src.layers.regularization.dropout.Dropout object at 0x0000018873F69610>, because it is not built.\n"
     ]
    },
    {
     "name": "stdout",
     "output_type": "stream",
     "text": [
      "INFO:tensorflow:Assets written to: output\\bestmodel.tf\\assets\n"
     ]
    },
    {
     "name": "stderr",
     "output_type": "stream",
     "text": [
      "INFO:tensorflow:Assets written to: output\\bestmodel.tf\\assets\n"
     ]
    },
    {
     "name": "stdout",
     "output_type": "stream",
     "text": [
      "19/19 [==============================] - 1s 83ms/step - loss: 1.1515 - accuracy: 0.5726 - val_loss: 1.1290 - val_accuracy: 0.5963\n",
      "Epoch 8/200\n",
      "18/19 [===========================>..] - ETA: 0s - loss: 1.1027 - accuracy: 0.6007WARNING:tensorflow:Skipping full serialization of Keras layer <keras.src.layers.regularization.dropout.Dropout object at 0x0000018873F69610>, because it is not built.\n"
     ]
    },
    {
     "name": "stderr",
     "output_type": "stream",
     "text": [
      "WARNING:tensorflow:Skipping full serialization of Keras layer <keras.src.layers.regularization.dropout.Dropout object at 0x0000018873F69610>, because it is not built.\n"
     ]
    },
    {
     "name": "stdout",
     "output_type": "stream",
     "text": [
      "INFO:tensorflow:Assets written to: output\\bestmodel.tf\\assets\n"
     ]
    },
    {
     "name": "stderr",
     "output_type": "stream",
     "text": [
      "INFO:tensorflow:Assets written to: output\\bestmodel.tf\\assets\n"
     ]
    },
    {
     "name": "stdout",
     "output_type": "stream",
     "text": [
      "19/19 [==============================] - 2s 89ms/step - loss: 1.1029 - accuracy: 0.5974 - val_loss: 1.0897 - val_accuracy: 0.5963\n",
      "Epoch 9/200\n",
      " 1/19 [>.............................] - ETA: 0s - loss: 1.1037 - accuracy: 0.5625WARNING:tensorflow:Skipping full serialization of Keras layer <keras.src.layers.regularization.dropout.Dropout object at 0x0000018873F69610>, because it is not built.\n"
     ]
    },
    {
     "name": "stderr",
     "output_type": "stream",
     "text": [
      "WARNING:tensorflow:Skipping full serialization of Keras layer <keras.src.layers.regularization.dropout.Dropout object at 0x0000018873F69610>, because it is not built.\n"
     ]
    },
    {
     "name": "stdout",
     "output_type": "stream",
     "text": [
      "INFO:tensorflow:Assets written to: output\\bestmodel.tf\\assets\n"
     ]
    },
    {
     "name": "stderr",
     "output_type": "stream",
     "text": [
      "INFO:tensorflow:Assets written to: output\\bestmodel.tf\\assets\n"
     ]
    },
    {
     "name": "stdout",
     "output_type": "stream",
     "text": [
      "19/19 [==============================] - 1s 80ms/step - loss: 1.0479 - accuracy: 0.6040 - val_loss: 1.0495 - val_accuracy: 0.5872\n",
      "Epoch 10/200\n",
      "15/19 [======================>.......] - ETA: 0s - loss: 0.9930 - accuracy: 0.6229WARNING:tensorflow:Skipping full serialization of Keras layer <keras.src.layers.regularization.dropout.Dropout object at 0x0000018873F69610>, because it is not built.\n"
     ]
    },
    {
     "name": "stderr",
     "output_type": "stream",
     "text": [
      "WARNING:tensorflow:Skipping full serialization of Keras layer <keras.src.layers.regularization.dropout.Dropout object at 0x0000018873F69610>, because it is not built.\n"
     ]
    },
    {
     "name": "stdout",
     "output_type": "stream",
     "text": [
      "INFO:tensorflow:Assets written to: output\\bestmodel.tf\\assets\n"
     ]
    },
    {
     "name": "stderr",
     "output_type": "stream",
     "text": [
      "INFO:tensorflow:Assets written to: output\\bestmodel.tf\\assets\n"
     ]
    },
    {
     "name": "stdout",
     "output_type": "stream",
     "text": [
      "19/19 [==============================] - 2s 90ms/step - loss: 0.9893 - accuracy: 0.6205 - val_loss: 1.0090 - val_accuracy: 0.5872\n",
      "Epoch 11/200\n",
      "19/19 [==============================] - ETA: 0s - loss: 0.9353 - accuracy: 0.6403WARNING:tensorflow:Skipping full serialization of Keras layer <keras.src.layers.regularization.dropout.Dropout object at 0x0000018873F69610>, because it is not built.\n"
     ]
    },
    {
     "name": "stderr",
     "output_type": "stream",
     "text": [
      "WARNING:tensorflow:Skipping full serialization of Keras layer <keras.src.layers.regularization.dropout.Dropout object at 0x0000018873F69610>, because it is not built.\n"
     ]
    },
    {
     "name": "stdout",
     "output_type": "stream",
     "text": [
      "INFO:tensorflow:Assets written to: output\\bestmodel.tf\\assets\n"
     ]
    },
    {
     "name": "stderr",
     "output_type": "stream",
     "text": [
      "INFO:tensorflow:Assets written to: output\\bestmodel.tf\\assets\n"
     ]
    },
    {
     "name": "stdout",
     "output_type": "stream",
     "text": [
      "19/19 [==============================] - 2s 84ms/step - loss: 0.9353 - accuracy: 0.6403 - val_loss: 0.9635 - val_accuracy: 0.5963\n",
      "Epoch 12/200\n",
      " 1/19 [>.............................] - ETA: 0s - loss: 0.9276 - accuracy: 0.5938WARNING:tensorflow:Skipping full serialization of Keras layer <keras.src.layers.regularization.dropout.Dropout object at 0x0000018873F69610>, because it is not built.\n"
     ]
    },
    {
     "name": "stderr",
     "output_type": "stream",
     "text": [
      "WARNING:tensorflow:Skipping full serialization of Keras layer <keras.src.layers.regularization.dropout.Dropout object at 0x0000018873F69610>, because it is not built.\n"
     ]
    },
    {
     "name": "stdout",
     "output_type": "stream",
     "text": [
      "INFO:tensorflow:Assets written to: output\\bestmodel.tf\\assets\n"
     ]
    },
    {
     "name": "stderr",
     "output_type": "stream",
     "text": [
      "INFO:tensorflow:Assets written to: output\\bestmodel.tf\\assets\n"
     ]
    },
    {
     "name": "stdout",
     "output_type": "stream",
     "text": [
      "19/19 [==============================] - 1s 82ms/step - loss: 0.8861 - accuracy: 0.6650 - val_loss: 0.9177 - val_accuracy: 0.6422\n",
      "Epoch 13/200\n",
      " 1/19 [>.............................] - ETA: 0s - loss: 0.9247 - accuracy: 0.6562WARNING:tensorflow:Skipping full serialization of Keras layer <keras.src.layers.regularization.dropout.Dropout object at 0x0000018873F69610>, because it is not built.\n"
     ]
    },
    {
     "name": "stderr",
     "output_type": "stream",
     "text": [
      "WARNING:tensorflow:Skipping full serialization of Keras layer <keras.src.layers.regularization.dropout.Dropout object at 0x0000018873F69610>, because it is not built.\n"
     ]
    },
    {
     "name": "stdout",
     "output_type": "stream",
     "text": [
      "INFO:tensorflow:Assets written to: output\\bestmodel.tf\\assets\n"
     ]
    },
    {
     "name": "stderr",
     "output_type": "stream",
     "text": [
      "INFO:tensorflow:Assets written to: output\\bestmodel.tf\\assets\n"
     ]
    },
    {
     "name": "stdout",
     "output_type": "stream",
     "text": [
      "19/19 [==============================] - 2s 90ms/step - loss: 0.8429 - accuracy: 0.6749 - val_loss: 0.8718 - val_accuracy: 0.6972\n",
      "Epoch 14/200\n",
      " 1/19 [>.............................] - ETA: 0s - loss: 0.7414 - accuracy: 0.8125WARNING:tensorflow:Skipping full serialization of Keras layer <keras.src.layers.regularization.dropout.Dropout object at 0x0000018873F69610>, because it is not built.\n"
     ]
    },
    {
     "name": "stderr",
     "output_type": "stream",
     "text": [
      "WARNING:tensorflow:Skipping full serialization of Keras layer <keras.src.layers.regularization.dropout.Dropout object at 0x0000018873F69610>, because it is not built.\n"
     ]
    },
    {
     "name": "stdout",
     "output_type": "stream",
     "text": [
      "INFO:tensorflow:Assets written to: output\\bestmodel.tf\\assets\n"
     ]
    },
    {
     "name": "stderr",
     "output_type": "stream",
     "text": [
      "INFO:tensorflow:Assets written to: output\\bestmodel.tf\\assets\n"
     ]
    },
    {
     "name": "stdout",
     "output_type": "stream",
     "text": [
      "19/19 [==============================] - 2s 138ms/step - loss: 0.8064 - accuracy: 0.7079 - val_loss: 0.8291 - val_accuracy: 0.7064\n",
      "Epoch 15/200\n",
      " 1/19 [>.............................] - ETA: 0s - loss: 0.9910 - accuracy: 0.6875WARNING:tensorflow:Skipping full serialization of Keras layer <keras.src.layers.regularization.dropout.Dropout object at 0x0000018873F69610>, because it is not built.\n"
     ]
    },
    {
     "name": "stderr",
     "output_type": "stream",
     "text": [
      "WARNING:tensorflow:Skipping full serialization of Keras layer <keras.src.layers.regularization.dropout.Dropout object at 0x0000018873F69610>, because it is not built.\n"
     ]
    },
    {
     "name": "stdout",
     "output_type": "stream",
     "text": [
      "INFO:tensorflow:Assets written to: output\\bestmodel.tf\\assets\n"
     ]
    },
    {
     "name": "stderr",
     "output_type": "stream",
     "text": [
      "INFO:tensorflow:Assets written to: output\\bestmodel.tf\\assets\n"
     ]
    },
    {
     "name": "stdout",
     "output_type": "stream",
     "text": [
      "19/19 [==============================] - 1s 81ms/step - loss: 0.7724 - accuracy: 0.7310 - val_loss: 0.7852 - val_accuracy: 0.7156\n",
      "Epoch 16/200\n",
      " 1/19 [>.............................] - ETA: 0s - loss: 0.8076 - accuracy: 0.6875WARNING:tensorflow:Skipping full serialization of Keras layer <keras.src.layers.regularization.dropout.Dropout object at 0x0000018873F69610>, because it is not built.\n"
     ]
    },
    {
     "name": "stderr",
     "output_type": "stream",
     "text": [
      "WARNING:tensorflow:Skipping full serialization of Keras layer <keras.src.layers.regularization.dropout.Dropout object at 0x0000018873F69610>, because it is not built.\n"
     ]
    },
    {
     "name": "stdout",
     "output_type": "stream",
     "text": [
      "INFO:tensorflow:Assets written to: output\\bestmodel.tf\\assets\n"
     ]
    },
    {
     "name": "stderr",
     "output_type": "stream",
     "text": [
      "INFO:tensorflow:Assets written to: output\\bestmodel.tf\\assets\n"
     ]
    },
    {
     "name": "stdout",
     "output_type": "stream",
     "text": [
      "19/19 [==============================] - 2s 84ms/step - loss: 0.7386 - accuracy: 0.7624 - val_loss: 0.7419 - val_accuracy: 0.7339\n",
      "Epoch 17/200\n",
      "17/19 [=========================>....] - ETA: 0s - loss: 0.7088 - accuracy: 0.7849WARNING:tensorflow:Skipping full serialization of Keras layer <keras.src.layers.regularization.dropout.Dropout object at 0x0000018873F69610>, because it is not built.\n"
     ]
    },
    {
     "name": "stderr",
     "output_type": "stream",
     "text": [
      "WARNING:tensorflow:Skipping full serialization of Keras layer <keras.src.layers.regularization.dropout.Dropout object at 0x0000018873F69610>, because it is not built.\n"
     ]
    },
    {
     "name": "stdout",
     "output_type": "stream",
     "text": [
      "INFO:tensorflow:Assets written to: output\\bestmodel.tf\\assets\n"
     ]
    },
    {
     "name": "stderr",
     "output_type": "stream",
     "text": [
      "INFO:tensorflow:Assets written to: output\\bestmodel.tf\\assets\n"
     ]
    },
    {
     "name": "stdout",
     "output_type": "stream",
     "text": [
      "19/19 [==============================] - 2s 85ms/step - loss: 0.7064 - accuracy: 0.7822 - val_loss: 0.6996 - val_accuracy: 0.7339\n",
      "Epoch 18/200\n",
      " 1/19 [>.............................] - ETA: 0s - loss: 0.7010 - accuracy: 0.7500WARNING:tensorflow:Skipping full serialization of Keras layer <keras.src.layers.regularization.dropout.Dropout object at 0x0000018873F69610>, because it is not built.\n"
     ]
    },
    {
     "name": "stderr",
     "output_type": "stream",
     "text": [
      "WARNING:tensorflow:Skipping full serialization of Keras layer <keras.src.layers.regularization.dropout.Dropout object at 0x0000018873F69610>, because it is not built.\n"
     ]
    },
    {
     "name": "stdout",
     "output_type": "stream",
     "text": [
      "INFO:tensorflow:Assets written to: output\\bestmodel.tf\\assets\n"
     ]
    },
    {
     "name": "stderr",
     "output_type": "stream",
     "text": [
      "INFO:tensorflow:Assets written to: output\\bestmodel.tf\\assets\n"
     ]
    },
    {
     "name": "stdout",
     "output_type": "stream",
     "text": [
      "19/19 [==============================] - 2s 90ms/step - loss: 0.6761 - accuracy: 0.8168 - val_loss: 0.6575 - val_accuracy: 0.7982\n",
      "Epoch 19/200\n",
      " 1/19 [>.............................] - ETA: 0s - loss: 0.5598 - accuracy: 0.8750WARNING:tensorflow:Skipping full serialization of Keras layer <keras.src.layers.regularization.dropout.Dropout object at 0x0000018873F69610>, because it is not built.\n"
     ]
    },
    {
     "name": "stderr",
     "output_type": "stream",
     "text": [
      "WARNING:tensorflow:Skipping full serialization of Keras layer <keras.src.layers.regularization.dropout.Dropout object at 0x0000018873F69610>, because it is not built.\n"
     ]
    },
    {
     "name": "stdout",
     "output_type": "stream",
     "text": [
      "INFO:tensorflow:Assets written to: output\\bestmodel.tf\\assets\n"
     ]
    },
    {
     "name": "stderr",
     "output_type": "stream",
     "text": [
      "INFO:tensorflow:Assets written to: output\\bestmodel.tf\\assets\n"
     ]
    },
    {
     "name": "stdout",
     "output_type": "stream",
     "text": [
      "19/19 [==============================] - 2s 89ms/step - loss: 0.6472 - accuracy: 0.8366 - val_loss: 0.6212 - val_accuracy: 0.8257\n",
      "Epoch 20/200\n",
      " 1/19 [>.............................] - ETA: 0s - loss: 0.6939 - accuracy: 0.8750WARNING:tensorflow:Skipping full serialization of Keras layer <keras.src.layers.regularization.dropout.Dropout object at 0x0000018873F69610>, because it is not built.\n"
     ]
    },
    {
     "name": "stderr",
     "output_type": "stream",
     "text": [
      "WARNING:tensorflow:Skipping full serialization of Keras layer <keras.src.layers.regularization.dropout.Dropout object at 0x0000018873F69610>, because it is not built.\n"
     ]
    },
    {
     "name": "stdout",
     "output_type": "stream",
     "text": [
      "INFO:tensorflow:Assets written to: output\\bestmodel.tf\\assets\n"
     ]
    },
    {
     "name": "stderr",
     "output_type": "stream",
     "text": [
      "INFO:tensorflow:Assets written to: output\\bestmodel.tf\\assets\n"
     ]
    },
    {
     "name": "stdout",
     "output_type": "stream",
     "text": [
      "19/19 [==============================] - 2s 84ms/step - loss: 0.6223 - accuracy: 0.8515 - val_loss: 0.5867 - val_accuracy: 0.8349\n",
      "Epoch 21/200\n",
      " 1/19 [>.............................] - ETA: 0s - loss: 0.4958 - accuracy: 0.8750WARNING:tensorflow:Skipping full serialization of Keras layer <keras.src.layers.regularization.dropout.Dropout object at 0x0000018873F69610>, because it is not built.\n"
     ]
    },
    {
     "name": "stderr",
     "output_type": "stream",
     "text": [
      "WARNING:tensorflow:Skipping full serialization of Keras layer <keras.src.layers.regularization.dropout.Dropout object at 0x0000018873F69610>, because it is not built.\n"
     ]
    },
    {
     "name": "stdout",
     "output_type": "stream",
     "text": [
      "INFO:tensorflow:Assets written to: output\\bestmodel.tf\\assets\n"
     ]
    },
    {
     "name": "stderr",
     "output_type": "stream",
     "text": [
      "INFO:tensorflow:Assets written to: output\\bestmodel.tf\\assets\n"
     ]
    },
    {
     "name": "stdout",
     "output_type": "stream",
     "text": [
      "19/19 [==============================] - 1s 79ms/step - loss: 0.5982 - accuracy: 0.8597 - val_loss: 0.5526 - val_accuracy: 0.8624\n",
      "Epoch 22/200\n",
      " 1/19 [>.............................] - ETA: 0s - loss: 0.4617 - accuracy: 0.9375WARNING:tensorflow:Skipping full serialization of Keras layer <keras.src.layers.regularization.dropout.Dropout object at 0x0000018873F69610>, because it is not built.\n"
     ]
    },
    {
     "name": "stderr",
     "output_type": "stream",
     "text": [
      "WARNING:tensorflow:Skipping full serialization of Keras layer <keras.src.layers.regularization.dropout.Dropout object at 0x0000018873F69610>, because it is not built.\n"
     ]
    },
    {
     "name": "stdout",
     "output_type": "stream",
     "text": [
      "INFO:tensorflow:Assets written to: output\\bestmodel.tf\\assets\n"
     ]
    },
    {
     "name": "stderr",
     "output_type": "stream",
     "text": [
      "INFO:tensorflow:Assets written to: output\\bestmodel.tf\\assets\n"
     ]
    },
    {
     "name": "stdout",
     "output_type": "stream",
     "text": [
      "19/19 [==============================] - 2s 84ms/step - loss: 0.5775 - accuracy: 0.8746 - val_loss: 0.5245 - val_accuracy: 0.8991\n",
      "Epoch 23/200\n",
      " 1/19 [>.............................] - ETA: 0s - loss: 0.4664 - accuracy: 0.9375WARNING:tensorflow:Skipping full serialization of Keras layer <keras.src.layers.regularization.dropout.Dropout object at 0x0000018873F69610>, because it is not built.\n"
     ]
    },
    {
     "name": "stderr",
     "output_type": "stream",
     "text": [
      "WARNING:tensorflow:Skipping full serialization of Keras layer <keras.src.layers.regularization.dropout.Dropout object at 0x0000018873F69610>, because it is not built.\n"
     ]
    },
    {
     "name": "stdout",
     "output_type": "stream",
     "text": [
      "INFO:tensorflow:Assets written to: output\\bestmodel.tf\\assets\n"
     ]
    },
    {
     "name": "stderr",
     "output_type": "stream",
     "text": [
      "INFO:tensorflow:Assets written to: output\\bestmodel.tf\\assets\n"
     ]
    },
    {
     "name": "stdout",
     "output_type": "stream",
     "text": [
      "19/19 [==============================] - 2s 83ms/step - loss: 0.5570 - accuracy: 0.8927 - val_loss: 0.4997 - val_accuracy: 0.8991\n",
      "Epoch 24/200\n",
      " 1/19 [>.............................] - ETA: 0s - loss: 0.4733 - accuracy: 0.9062WARNING:tensorflow:Skipping full serialization of Keras layer <keras.src.layers.regularization.dropout.Dropout object at 0x0000018873F69610>, because it is not built.\n"
     ]
    },
    {
     "name": "stderr",
     "output_type": "stream",
     "text": [
      "WARNING:tensorflow:Skipping full serialization of Keras layer <keras.src.layers.regularization.dropout.Dropout object at 0x0000018873F69610>, because it is not built.\n"
     ]
    },
    {
     "name": "stdout",
     "output_type": "stream",
     "text": [
      "INFO:tensorflow:Assets written to: output\\bestmodel.tf\\assets\n"
     ]
    },
    {
     "name": "stderr",
     "output_type": "stream",
     "text": [
      "INFO:tensorflow:Assets written to: output\\bestmodel.tf\\assets\n"
     ]
    },
    {
     "name": "stdout",
     "output_type": "stream",
     "text": [
      "19/19 [==============================] - 2s 85ms/step - loss: 0.5382 - accuracy: 0.9026 - val_loss: 0.4733 - val_accuracy: 0.9174\n",
      "Epoch 25/200\n",
      "12/19 [=================>............] - ETA: 0s - loss: 0.5402 - accuracy: 0.9141WARNING:tensorflow:Skipping full serialization of Keras layer <keras.src.layers.regularization.dropout.Dropout object at 0x0000018873F69610>, because it is not built.\n"
     ]
    },
    {
     "name": "stderr",
     "output_type": "stream",
     "text": [
      "WARNING:tensorflow:Skipping full serialization of Keras layer <keras.src.layers.regularization.dropout.Dropout object at 0x0000018873F69610>, because it is not built.\n"
     ]
    },
    {
     "name": "stdout",
     "output_type": "stream",
     "text": [
      "INFO:tensorflow:Assets written to: output\\bestmodel.tf\\assets\n"
     ]
    },
    {
     "name": "stderr",
     "output_type": "stream",
     "text": [
      "INFO:tensorflow:Assets written to: output\\bestmodel.tf\\assets\n"
     ]
    },
    {
     "name": "stdout",
     "output_type": "stream",
     "text": [
      "19/19 [==============================] - 2s 94ms/step - loss: 0.5201 - accuracy: 0.9158 - val_loss: 0.4532 - val_accuracy: 0.9358\n",
      "Epoch 26/200\n",
      " 1/19 [>.............................] - ETA: 0s - loss: 0.4812 - accuracy: 0.9062WARNING:tensorflow:Skipping full serialization of Keras layer <keras.src.layers.regularization.dropout.Dropout object at 0x0000018873F69610>, because it is not built.\n"
     ]
    },
    {
     "name": "stderr",
     "output_type": "stream",
     "text": [
      "WARNING:tensorflow:Skipping full serialization of Keras layer <keras.src.layers.regularization.dropout.Dropout object at 0x0000018873F69610>, because it is not built.\n"
     ]
    },
    {
     "name": "stdout",
     "output_type": "stream",
     "text": [
      "INFO:tensorflow:Assets written to: output\\bestmodel.tf\\assets\n"
     ]
    },
    {
     "name": "stderr",
     "output_type": "stream",
     "text": [
      "INFO:tensorflow:Assets written to: output\\bestmodel.tf\\assets\n"
     ]
    },
    {
     "name": "stdout",
     "output_type": "stream",
     "text": [
      "19/19 [==============================] - 2s 137ms/step - loss: 0.5008 - accuracy: 0.9208 - val_loss: 0.4350 - val_accuracy: 0.9358\n",
      "Epoch 27/200\n",
      "18/19 [===========================>..] - ETA: 0s - loss: 0.4793 - accuracy: 0.9184WARNING:tensorflow:Skipping full serialization of Keras layer <keras.src.layers.regularization.dropout.Dropout object at 0x0000018873F69610>, because it is not built.\n"
     ]
    },
    {
     "name": "stderr",
     "output_type": "stream",
     "text": [
      "WARNING:tensorflow:Skipping full serialization of Keras layer <keras.src.layers.regularization.dropout.Dropout object at 0x0000018873F69610>, because it is not built.\n"
     ]
    },
    {
     "name": "stdout",
     "output_type": "stream",
     "text": [
      "INFO:tensorflow:Assets written to: output\\bestmodel.tf\\assets\n"
     ]
    },
    {
     "name": "stderr",
     "output_type": "stream",
     "text": [
      "INFO:tensorflow:Assets written to: output\\bestmodel.tf\\assets\n"
     ]
    },
    {
     "name": "stdout",
     "output_type": "stream",
     "text": [
      "19/19 [==============================] - 2s 89ms/step - loss: 0.4838 - accuracy: 0.9175 - val_loss: 0.4181 - val_accuracy: 0.9358\n",
      "Epoch 28/200\n",
      " 1/19 [>.............................] - ETA: 0s - loss: 0.3801 - accuracy: 0.9375WARNING:tensorflow:Skipping full serialization of Keras layer <keras.src.layers.regularization.dropout.Dropout object at 0x0000018873F69610>, because it is not built.\n"
     ]
    },
    {
     "name": "stderr",
     "output_type": "stream",
     "text": [
      "WARNING:tensorflow:Skipping full serialization of Keras layer <keras.src.layers.regularization.dropout.Dropout object at 0x0000018873F69610>, because it is not built.\n"
     ]
    },
    {
     "name": "stdout",
     "output_type": "stream",
     "text": [
      "INFO:tensorflow:Assets written to: output\\bestmodel.tf\\assets\n"
     ]
    },
    {
     "name": "stderr",
     "output_type": "stream",
     "text": [
      "INFO:tensorflow:Assets written to: output\\bestmodel.tf\\assets\n"
     ]
    },
    {
     "name": "stdout",
     "output_type": "stream",
     "text": [
      "19/19 [==============================] - 1s 81ms/step - loss: 0.4665 - accuracy: 0.9290 - val_loss: 0.4005 - val_accuracy: 0.9450\n",
      "Epoch 29/200\n",
      " 1/19 [>.............................] - ETA: 0s - loss: 0.5237 - accuracy: 0.9375WARNING:tensorflow:Skipping full serialization of Keras layer <keras.src.layers.regularization.dropout.Dropout object at 0x0000018873F69610>, because it is not built.\n"
     ]
    },
    {
     "name": "stderr",
     "output_type": "stream",
     "text": [
      "WARNING:tensorflow:Skipping full serialization of Keras layer <keras.src.layers.regularization.dropout.Dropout object at 0x0000018873F69610>, because it is not built.\n"
     ]
    },
    {
     "name": "stdout",
     "output_type": "stream",
     "text": [
      "INFO:tensorflow:Assets written to: output\\bestmodel.tf\\assets\n"
     ]
    },
    {
     "name": "stderr",
     "output_type": "stream",
     "text": [
      "INFO:tensorflow:Assets written to: output\\bestmodel.tf\\assets\n"
     ]
    },
    {
     "name": "stdout",
     "output_type": "stream",
     "text": [
      "19/19 [==============================] - 2s 84ms/step - loss: 0.4521 - accuracy: 0.9340 - val_loss: 0.3882 - val_accuracy: 0.9450\n",
      "Epoch 30/200\n",
      " 1/19 [>.............................] - ETA: 0s - loss: 0.4427 - accuracy: 0.8750WARNING:tensorflow:Skipping full serialization of Keras layer <keras.src.layers.regularization.dropout.Dropout object at 0x0000018873F69610>, because it is not built.\n"
     ]
    },
    {
     "name": "stderr",
     "output_type": "stream",
     "text": [
      "WARNING:tensorflow:Skipping full serialization of Keras layer <keras.src.layers.regularization.dropout.Dropout object at 0x0000018873F69610>, because it is not built.\n"
     ]
    },
    {
     "name": "stdout",
     "output_type": "stream",
     "text": [
      "INFO:tensorflow:Assets written to: output\\bestmodel.tf\\assets\n"
     ]
    },
    {
     "name": "stderr",
     "output_type": "stream",
     "text": [
      "INFO:tensorflow:Assets written to: output\\bestmodel.tf\\assets\n"
     ]
    },
    {
     "name": "stdout",
     "output_type": "stream",
     "text": [
      "19/19 [==============================] - 2s 85ms/step - loss: 0.4367 - accuracy: 0.9389 - val_loss: 0.3739 - val_accuracy: 0.9450\n",
      "Epoch 31/200\n",
      " 1/19 [>.............................] - ETA: 0s - loss: 0.4652 - accuracy: 0.9688WARNING:tensorflow:Skipping full serialization of Keras layer <keras.src.layers.regularization.dropout.Dropout object at 0x0000018873F69610>, because it is not built.\n"
     ]
    },
    {
     "name": "stderr",
     "output_type": "stream",
     "text": [
      "WARNING:tensorflow:Skipping full serialization of Keras layer <keras.src.layers.regularization.dropout.Dropout object at 0x0000018873F69610>, because it is not built.\n"
     ]
    },
    {
     "name": "stdout",
     "output_type": "stream",
     "text": [
      "INFO:tensorflow:Assets written to: output\\bestmodel.tf\\assets\n"
     ]
    },
    {
     "name": "stderr",
     "output_type": "stream",
     "text": [
      "INFO:tensorflow:Assets written to: output\\bestmodel.tf\\assets\n"
     ]
    },
    {
     "name": "stdout",
     "output_type": "stream",
     "text": [
      "19/19 [==============================] - 2s 86ms/step - loss: 0.4221 - accuracy: 0.9439 - val_loss: 0.3662 - val_accuracy: 0.9633\n",
      "Epoch 32/200\n",
      "16/19 [========================>.....] - ETA: 0s - loss: 0.4214 - accuracy: 0.9492WARNING:tensorflow:Skipping full serialization of Keras layer <keras.src.layers.regularization.dropout.Dropout object at 0x0000018873F69610>, because it is not built.\n"
     ]
    },
    {
     "name": "stderr",
     "output_type": "stream",
     "text": [
      "WARNING:tensorflow:Skipping full serialization of Keras layer <keras.src.layers.regularization.dropout.Dropout object at 0x0000018873F69610>, because it is not built.\n"
     ]
    },
    {
     "name": "stdout",
     "output_type": "stream",
     "text": [
      "INFO:tensorflow:Assets written to: output\\bestmodel.tf\\assets\n"
     ]
    },
    {
     "name": "stderr",
     "output_type": "stream",
     "text": [
      "INFO:tensorflow:Assets written to: output\\bestmodel.tf\\assets\n"
     ]
    },
    {
     "name": "stdout",
     "output_type": "stream",
     "text": [
      "19/19 [==============================] - 2s 84ms/step - loss: 0.4076 - accuracy: 0.9505 - val_loss: 0.3505 - val_accuracy: 0.9633\n",
      "Epoch 33/200\n",
      "15/19 [======================>.......] - ETA: 0s - loss: 0.3992 - accuracy: 0.9542WARNING:tensorflow:Skipping full serialization of Keras layer <keras.src.layers.regularization.dropout.Dropout object at 0x0000018873F69610>, because it is not built.\n"
     ]
    },
    {
     "name": "stderr",
     "output_type": "stream",
     "text": [
      "WARNING:tensorflow:Skipping full serialization of Keras layer <keras.src.layers.regularization.dropout.Dropout object at 0x0000018873F69610>, because it is not built.\n"
     ]
    },
    {
     "name": "stdout",
     "output_type": "stream",
     "text": [
      "INFO:tensorflow:Assets written to: output\\bestmodel.tf\\assets\n"
     ]
    },
    {
     "name": "stderr",
     "output_type": "stream",
     "text": [
      "INFO:tensorflow:Assets written to: output\\bestmodel.tf\\assets\n"
     ]
    },
    {
     "name": "stdout",
     "output_type": "stream",
     "text": [
      "19/19 [==============================] - 2s 86ms/step - loss: 0.3972 - accuracy: 0.9538 - val_loss: 0.3433 - val_accuracy: 0.9633\n",
      "Epoch 34/200\n",
      "19/19 [==============================] - 0s 4ms/step - loss: 0.3835 - accuracy: 0.9521 - val_loss: 0.3440 - val_accuracy: 0.9633\n",
      "Epoch 35/200\n",
      " 1/19 [>.............................] - ETA: 0s - loss: 0.2883 - accuracy: 0.9375WARNING:tensorflow:Skipping full serialization of Keras layer <keras.src.layers.regularization.dropout.Dropout object at 0x0000018873F69610>, because it is not built.\n"
     ]
    },
    {
     "name": "stderr",
     "output_type": "stream",
     "text": [
      "WARNING:tensorflow:Skipping full serialization of Keras layer <keras.src.layers.regularization.dropout.Dropout object at 0x0000018873F69610>, because it is not built.\n"
     ]
    },
    {
     "name": "stdout",
     "output_type": "stream",
     "text": [
      "INFO:tensorflow:Assets written to: output\\bestmodel.tf\\assets\n"
     ]
    },
    {
     "name": "stderr",
     "output_type": "stream",
     "text": [
      "INFO:tensorflow:Assets written to: output\\bestmodel.tf\\assets\n"
     ]
    },
    {
     "name": "stdout",
     "output_type": "stream",
     "text": [
      "19/19 [==============================] - 1s 81ms/step - loss: 0.3773 - accuracy: 0.9538 - val_loss: 0.3287 - val_accuracy: 0.9725\n",
      "Epoch 36/200\n",
      " 1/19 [>.............................] - ETA: 0s - loss: 0.5017 - accuracy: 0.9062WARNING:tensorflow:Skipping full serialization of Keras layer <keras.src.layers.regularization.dropout.Dropout object at 0x0000018873F69610>, because it is not built.\n"
     ]
    },
    {
     "name": "stderr",
     "output_type": "stream",
     "text": [
      "WARNING:tensorflow:Skipping full serialization of Keras layer <keras.src.layers.regularization.dropout.Dropout object at 0x0000018873F69610>, because it is not built.\n"
     ]
    },
    {
     "name": "stdout",
     "output_type": "stream",
     "text": [
      "INFO:tensorflow:Assets written to: output\\bestmodel.tf\\assets\n"
     ]
    },
    {
     "name": "stderr",
     "output_type": "stream",
     "text": [
      "INFO:tensorflow:Assets written to: output\\bestmodel.tf\\assets\n"
     ]
    },
    {
     "name": "stdout",
     "output_type": "stream",
     "text": [
      "19/19 [==============================] - 2s 84ms/step - loss: 0.3668 - accuracy: 0.9587 - val_loss: 0.3218 - val_accuracy: 0.9725\n",
      "Epoch 37/200\n",
      "18/19 [===========================>..] - ETA: 0s - loss: 0.3618 - accuracy: 0.9635WARNING:tensorflow:Skipping full serialization of Keras layer <keras.src.layers.regularization.dropout.Dropout object at 0x0000018873F69610>, because it is not built.\n"
     ]
    },
    {
     "name": "stderr",
     "output_type": "stream",
     "text": [
      "WARNING:tensorflow:Skipping full serialization of Keras layer <keras.src.layers.regularization.dropout.Dropout object at 0x0000018873F69610>, because it is not built.\n"
     ]
    },
    {
     "name": "stdout",
     "output_type": "stream",
     "text": [
      "INFO:tensorflow:Assets written to: output\\bestmodel.tf\\assets\n"
     ]
    },
    {
     "name": "stderr",
     "output_type": "stream",
     "text": [
      "INFO:tensorflow:Assets written to: output\\bestmodel.tf\\assets\n"
     ]
    },
    {
     "name": "stdout",
     "output_type": "stream",
     "text": [
      "19/19 [==============================] - 2s 87ms/step - loss: 0.3580 - accuracy: 0.9653 - val_loss: 0.3145 - val_accuracy: 0.9725\n",
      "Epoch 38/200\n",
      " 1/19 [>.............................] - ETA: 0s - loss: 0.2706 - accuracy: 1.0000WARNING:tensorflow:Skipping full serialization of Keras layer <keras.src.layers.regularization.dropout.Dropout object at 0x0000018873F69610>, because it is not built.\n"
     ]
    },
    {
     "name": "stderr",
     "output_type": "stream",
     "text": [
      "WARNING:tensorflow:Skipping full serialization of Keras layer <keras.src.layers.regularization.dropout.Dropout object at 0x0000018873F69610>, because it is not built.\n"
     ]
    },
    {
     "name": "stdout",
     "output_type": "stream",
     "text": [
      "INFO:tensorflow:Assets written to: output\\bestmodel.tf\\assets\n"
     ]
    },
    {
     "name": "stderr",
     "output_type": "stream",
     "text": [
      "INFO:tensorflow:Assets written to: output\\bestmodel.tf\\assets\n"
     ]
    },
    {
     "name": "stdout",
     "output_type": "stream",
     "text": [
      "19/19 [==============================] - 1s 78ms/step - loss: 0.3522 - accuracy: 0.9637 - val_loss: 0.3116 - val_accuracy: 0.9817\n",
      "Epoch 39/200\n",
      " 1/19 [>.............................] - ETA: 0s - loss: 0.3049 - accuracy: 0.9688WARNING:tensorflow:Skipping full serialization of Keras layer <keras.src.layers.regularization.dropout.Dropout object at 0x0000018873F69610>, because it is not built.\n"
     ]
    },
    {
     "name": "stderr",
     "output_type": "stream",
     "text": [
      "WARNING:tensorflow:Skipping full serialization of Keras layer <keras.src.layers.regularization.dropout.Dropout object at 0x0000018873F69610>, because it is not built.\n"
     ]
    },
    {
     "name": "stdout",
     "output_type": "stream",
     "text": [
      "INFO:tensorflow:Assets written to: output\\bestmodel.tf\\assets\n"
     ]
    },
    {
     "name": "stderr",
     "output_type": "stream",
     "text": [
      "INFO:tensorflow:Assets written to: output\\bestmodel.tf\\assets\n"
     ]
    },
    {
     "name": "stdout",
     "output_type": "stream",
     "text": [
      "19/19 [==============================] - 1s 82ms/step - loss: 0.3451 - accuracy: 0.9686 - val_loss: 0.3035 - val_accuracy: 0.9817\n",
      "Epoch 40/200\n",
      "19/19 [==============================] - ETA: 0s - loss: 0.3361 - accuracy: 0.9703WARNING:tensorflow:Skipping full serialization of Keras layer <keras.src.layers.regularization.dropout.Dropout object at 0x0000018873F69610>, because it is not built.\n"
     ]
    },
    {
     "name": "stderr",
     "output_type": "stream",
     "text": [
      "WARNING:tensorflow:Skipping full serialization of Keras layer <keras.src.layers.regularization.dropout.Dropout object at 0x0000018873F69610>, because it is not built.\n"
     ]
    },
    {
     "name": "stdout",
     "output_type": "stream",
     "text": [
      "INFO:tensorflow:Assets written to: output\\bestmodel.tf\\assets\n"
     ]
    },
    {
     "name": "stderr",
     "output_type": "stream",
     "text": [
      "INFO:tensorflow:Assets written to: output\\bestmodel.tf\\assets\n"
     ]
    },
    {
     "name": "stdout",
     "output_type": "stream",
     "text": [
      "19/19 [==============================] - 2s 129ms/step - loss: 0.3361 - accuracy: 0.9703 - val_loss: 0.2997 - val_accuracy: 0.9817\n",
      "Epoch 41/200\n",
      "19/19 [==============================] - 0s 5ms/step - loss: 0.3324 - accuracy: 0.9703 - val_loss: 0.3023 - val_accuracy: 0.9817\n",
      "Epoch 42/200\n",
      " 1/19 [>.............................] - ETA: 0s - loss: 0.4886 - accuracy: 0.9062WARNING:tensorflow:Skipping full serialization of Keras layer <keras.src.layers.regularization.dropout.Dropout object at 0x0000018873F69610>, because it is not built.\n"
     ]
    },
    {
     "name": "stderr",
     "output_type": "stream",
     "text": [
      "WARNING:tensorflow:Skipping full serialization of Keras layer <keras.src.layers.regularization.dropout.Dropout object at 0x0000018873F69610>, because it is not built.\n"
     ]
    },
    {
     "name": "stdout",
     "output_type": "stream",
     "text": [
      "INFO:tensorflow:Assets written to: output\\bestmodel.tf\\assets\n"
     ]
    },
    {
     "name": "stderr",
     "output_type": "stream",
     "text": [
      "INFO:tensorflow:Assets written to: output\\bestmodel.tf\\assets\n"
     ]
    },
    {
     "name": "stdout",
     "output_type": "stream",
     "text": [
      "19/19 [==============================] - 1s 83ms/step - loss: 0.3263 - accuracy: 0.9686 - val_loss: 0.2947 - val_accuracy: 0.9817\n",
      "Epoch 43/200\n",
      " 1/19 [>.............................] - ETA: 0s - loss: 0.2829 - accuracy: 1.0000WARNING:tensorflow:Skipping full serialization of Keras layer <keras.src.layers.regularization.dropout.Dropout object at 0x0000018873F69610>, because it is not built.\n"
     ]
    },
    {
     "name": "stderr",
     "output_type": "stream",
     "text": [
      "WARNING:tensorflow:Skipping full serialization of Keras layer <keras.src.layers.regularization.dropout.Dropout object at 0x0000018873F69610>, because it is not built.\n"
     ]
    },
    {
     "name": "stdout",
     "output_type": "stream",
     "text": [
      "INFO:tensorflow:Assets written to: output\\bestmodel.tf\\assets\n"
     ]
    },
    {
     "name": "stderr",
     "output_type": "stream",
     "text": [
      "INFO:tensorflow:Assets written to: output\\bestmodel.tf\\assets\n"
     ]
    },
    {
     "name": "stdout",
     "output_type": "stream",
     "text": [
      "19/19 [==============================] - 1s 79ms/step - loss: 0.3210 - accuracy: 0.9752 - val_loss: 0.2936 - val_accuracy: 0.9817\n",
      "Epoch 44/200\n",
      " 1/19 [>.............................] - ETA: 0s - loss: 0.2684 - accuracy: 1.0000WARNING:tensorflow:Skipping full serialization of Keras layer <keras.src.layers.regularization.dropout.Dropout object at 0x0000018873F69610>, because it is not built.\n"
     ]
    },
    {
     "name": "stderr",
     "output_type": "stream",
     "text": [
      "WARNING:tensorflow:Skipping full serialization of Keras layer <keras.src.layers.regularization.dropout.Dropout object at 0x0000018873F69610>, because it is not built.\n"
     ]
    },
    {
     "name": "stdout",
     "output_type": "stream",
     "text": [
      "INFO:tensorflow:Assets written to: output\\bestmodel.tf\\assets\n"
     ]
    },
    {
     "name": "stderr",
     "output_type": "stream",
     "text": [
      "INFO:tensorflow:Assets written to: output\\bestmodel.tf\\assets\n"
     ]
    },
    {
     "name": "stdout",
     "output_type": "stream",
     "text": [
      "19/19 [==============================] - 2s 85ms/step - loss: 0.3146 - accuracy: 0.9736 - val_loss: 0.2849 - val_accuracy: 0.9817\n",
      "Epoch 45/200\n",
      " 1/19 [>.............................] - ETA: 0s - loss: 0.3101 - accuracy: 0.9688WARNING:tensorflow:Skipping full serialization of Keras layer <keras.src.layers.regularization.dropout.Dropout object at 0x0000018873F69610>, because it is not built.\n"
     ]
    },
    {
     "name": "stderr",
     "output_type": "stream",
     "text": [
      "WARNING:tensorflow:Skipping full serialization of Keras layer <keras.src.layers.regularization.dropout.Dropout object at 0x0000018873F69610>, because it is not built.\n"
     ]
    },
    {
     "name": "stdout",
     "output_type": "stream",
     "text": [
      "INFO:tensorflow:Assets written to: output\\bestmodel.tf\\assets\n"
     ]
    },
    {
     "name": "stderr",
     "output_type": "stream",
     "text": [
      "INFO:tensorflow:Assets written to: output\\bestmodel.tf\\assets\n"
     ]
    },
    {
     "name": "stdout",
     "output_type": "stream",
     "text": [
      "19/19 [==============================] - 2s 92ms/step - loss: 0.3089 - accuracy: 0.9736 - val_loss: 0.2790 - val_accuracy: 0.9725\n",
      "Epoch 46/200\n",
      "19/19 [==============================] - 0s 5ms/step - loss: 0.3053 - accuracy: 0.9769 - val_loss: 0.2824 - val_accuracy: 0.9817\n",
      "Epoch 47/200\n",
      " 1/19 [>.............................] - ETA: 0s - loss: 0.2458 - accuracy: 1.0000WARNING:tensorflow:Skipping full serialization of Keras layer <keras.src.layers.regularization.dropout.Dropout object at 0x0000018873F69610>, because it is not built.\n"
     ]
    },
    {
     "name": "stderr",
     "output_type": "stream",
     "text": [
      "WARNING:tensorflow:Skipping full serialization of Keras layer <keras.src.layers.regularization.dropout.Dropout object at 0x0000018873F69610>, because it is not built.\n"
     ]
    },
    {
     "name": "stdout",
     "output_type": "stream",
     "text": [
      "INFO:tensorflow:Assets written to: output\\bestmodel.tf\\assets\n"
     ]
    },
    {
     "name": "stderr",
     "output_type": "stream",
     "text": [
      "INFO:tensorflow:Assets written to: output\\bestmodel.tf\\assets\n"
     ]
    },
    {
     "name": "stdout",
     "output_type": "stream",
     "text": [
      "19/19 [==============================] - 1s 81ms/step - loss: 0.3012 - accuracy: 0.9752 - val_loss: 0.2770 - val_accuracy: 0.9725\n",
      "Epoch 48/200\n",
      " 1/19 [>.............................] - ETA: 0s - loss: 0.2584 - accuracy: 1.0000WARNING:tensorflow:Skipping full serialization of Keras layer <keras.src.layers.regularization.dropout.Dropout object at 0x0000018873F69610>, because it is not built.\n"
     ]
    },
    {
     "name": "stderr",
     "output_type": "stream",
     "text": [
      "WARNING:tensorflow:Skipping full serialization of Keras layer <keras.src.layers.regularization.dropout.Dropout object at 0x0000018873F69610>, because it is not built.\n"
     ]
    },
    {
     "name": "stdout",
     "output_type": "stream",
     "text": [
      "INFO:tensorflow:Assets written to: output\\bestmodel.tf\\assets\n"
     ]
    },
    {
     "name": "stderr",
     "output_type": "stream",
     "text": [
      "INFO:tensorflow:Assets written to: output\\bestmodel.tf\\assets\n"
     ]
    },
    {
     "name": "stdout",
     "output_type": "stream",
     "text": [
      "19/19 [==============================] - 2s 87ms/step - loss: 0.2952 - accuracy: 0.9736 - val_loss: 0.2723 - val_accuracy: 0.9817\n",
      "Epoch 49/200\n",
      " 1/19 [>.............................] - ETA: 0s - loss: 0.2553 - accuracy: 1.0000WARNING:tensorflow:Skipping full serialization of Keras layer <keras.src.layers.regularization.dropout.Dropout object at 0x0000018873F69610>, because it is not built.\n"
     ]
    },
    {
     "name": "stderr",
     "output_type": "stream",
     "text": [
      "WARNING:tensorflow:Skipping full serialization of Keras layer <keras.src.layers.regularization.dropout.Dropout object at 0x0000018873F69610>, because it is not built.\n"
     ]
    },
    {
     "name": "stdout",
     "output_type": "stream",
     "text": [
      "INFO:tensorflow:Assets written to: output\\bestmodel.tf\\assets\n"
     ]
    },
    {
     "name": "stderr",
     "output_type": "stream",
     "text": [
      "INFO:tensorflow:Assets written to: output\\bestmodel.tf\\assets\n"
     ]
    },
    {
     "name": "stdout",
     "output_type": "stream",
     "text": [
      "19/19 [==============================] - 2s 84ms/step - loss: 0.2918 - accuracy: 0.9752 - val_loss: 0.2699 - val_accuracy: 0.9817\n",
      "Epoch 50/200\n",
      " 1/19 [>.............................] - ETA: 0s - loss: 0.2538 - accuracy: 1.0000WARNING:tensorflow:Skipping full serialization of Keras layer <keras.src.layers.regularization.dropout.Dropout object at 0x0000018873F69610>, because it is not built.\n"
     ]
    },
    {
     "name": "stderr",
     "output_type": "stream",
     "text": [
      "WARNING:tensorflow:Skipping full serialization of Keras layer <keras.src.layers.regularization.dropout.Dropout object at 0x0000018873F69610>, because it is not built.\n"
     ]
    },
    {
     "name": "stdout",
     "output_type": "stream",
     "text": [
      "INFO:tensorflow:Assets written to: output\\bestmodel.tf\\assets\n"
     ]
    },
    {
     "name": "stderr",
     "output_type": "stream",
     "text": [
      "INFO:tensorflow:Assets written to: output\\bestmodel.tf\\assets\n"
     ]
    },
    {
     "name": "stdout",
     "output_type": "stream",
     "text": [
      "19/19 [==============================] - 1s 80ms/step - loss: 0.2867 - accuracy: 0.9769 - val_loss: 0.2604 - val_accuracy: 0.9817\n",
      "Epoch 51/200\n",
      " 1/19 [>.............................] - ETA: 0s - loss: 0.2886 - accuracy: 0.9688WARNING:tensorflow:Skipping full serialization of Keras layer <keras.src.layers.regularization.dropout.Dropout object at 0x0000018873F69610>, because it is not built.\n"
     ]
    },
    {
     "name": "stderr",
     "output_type": "stream",
     "text": [
      "WARNING:tensorflow:Skipping full serialization of Keras layer <keras.src.layers.regularization.dropout.Dropout object at 0x0000018873F69610>, because it is not built.\n"
     ]
    },
    {
     "name": "stdout",
     "output_type": "stream",
     "text": [
      "INFO:tensorflow:Assets written to: output\\bestmodel.tf\\assets\n"
     ]
    },
    {
     "name": "stderr",
     "output_type": "stream",
     "text": [
      "INFO:tensorflow:Assets written to: output\\bestmodel.tf\\assets\n"
     ]
    },
    {
     "name": "stdout",
     "output_type": "stream",
     "text": [
      "19/19 [==============================] - 2s 84ms/step - loss: 0.2824 - accuracy: 0.9785 - val_loss: 0.2593 - val_accuracy: 0.9817\n",
      "Epoch 52/200\n",
      "19/19 [==============================] - 0s 7ms/step - loss: 0.2788 - accuracy: 0.9785 - val_loss: 0.2611 - val_accuracy: 0.9725\n",
      "Epoch 53/200\n",
      "14/19 [=====================>........] - ETA: 0s - loss: 0.2838 - accuracy: 0.9754WARNING:tensorflow:Skipping full serialization of Keras layer <keras.src.layers.regularization.dropout.Dropout object at 0x0000018873F69610>, because it is not built.\n"
     ]
    },
    {
     "name": "stderr",
     "output_type": "stream",
     "text": [
      "WARNING:tensorflow:Skipping full serialization of Keras layer <keras.src.layers.regularization.dropout.Dropout object at 0x0000018873F69610>, because it is not built.\n"
     ]
    },
    {
     "name": "stdout",
     "output_type": "stream",
     "text": [
      "INFO:tensorflow:Assets written to: output\\bestmodel.tf\\assets\n"
     ]
    },
    {
     "name": "stderr",
     "output_type": "stream",
     "text": [
      "INFO:tensorflow:Assets written to: output\\bestmodel.tf\\assets\n"
     ]
    },
    {
     "name": "stdout",
     "output_type": "stream",
     "text": [
      "19/19 [==============================] - 1s 82ms/step - loss: 0.2744 - accuracy: 0.9785 - val_loss: 0.2567 - val_accuracy: 0.9817\n",
      "Epoch 54/200\n",
      "19/19 [==============================] - 0s 5ms/step - loss: 0.2703 - accuracy: 0.9785 - val_loss: 0.2574 - val_accuracy: 0.9817\n",
      "Epoch 55/200\n",
      "19/19 [==============================] - 0s 6ms/step - loss: 0.2682 - accuracy: 0.9752 - val_loss: 0.2568 - val_accuracy: 0.9908\n",
      "Epoch 56/200\n",
      "19/19 [==============================] - 0s 5ms/step - loss: 0.2633 - accuracy: 0.9752 - val_loss: 0.2588 - val_accuracy: 0.9817\n",
      "Epoch 57/200\n",
      " 1/19 [>.............................] - ETA: 0s - loss: 0.3362 - accuracy: 0.9375WARNING:tensorflow:Skipping full serialization of Keras layer <keras.src.layers.regularization.dropout.Dropout object at 0x0000018873F69610>, because it is not built.\n"
     ]
    },
    {
     "name": "stderr",
     "output_type": "stream",
     "text": [
      "WARNING:tensorflow:Skipping full serialization of Keras layer <keras.src.layers.regularization.dropout.Dropout object at 0x0000018873F69610>, because it is not built.\n"
     ]
    },
    {
     "name": "stdout",
     "output_type": "stream",
     "text": [
      "INFO:tensorflow:Assets written to: output\\bestmodel.tf\\assets\n"
     ]
    },
    {
     "name": "stderr",
     "output_type": "stream",
     "text": [
      "INFO:tensorflow:Assets written to: output\\bestmodel.tf\\assets\n"
     ]
    },
    {
     "name": "stdout",
     "output_type": "stream",
     "text": [
      "19/19 [==============================] - 2s 87ms/step - loss: 0.2614 - accuracy: 0.9752 - val_loss: 0.2443 - val_accuracy: 0.9908\n",
      "Epoch 58/200\n",
      "19/19 [==============================] - 0s 6ms/step - loss: 0.2572 - accuracy: 0.9785 - val_loss: 0.2460 - val_accuracy: 0.9908\n",
      "Epoch 59/200\n",
      "19/19 [==============================] - 0s 6ms/step - loss: 0.2530 - accuracy: 0.9802 - val_loss: 0.2519 - val_accuracy: 0.9633\n",
      "Epoch 60/200\n",
      "19/19 [==============================] - 0s 6ms/step - loss: 0.2525 - accuracy: 0.9802 - val_loss: 0.2454 - val_accuracy: 0.9817\n",
      "Epoch 61/200\n",
      "19/19 [==============================] - 0s 5ms/step - loss: 0.2485 - accuracy: 0.9835 - val_loss: 0.2451 - val_accuracy: 0.9817\n",
      "Epoch 62/200\n",
      " 1/19 [>.............................] - ETA: 0s - loss: 0.2837 - accuracy: 0.9688WARNING:tensorflow:Skipping full serialization of Keras layer <keras.src.layers.regularization.dropout.Dropout object at 0x0000018873F69610>, because it is not built.\n"
     ]
    },
    {
     "name": "stderr",
     "output_type": "stream",
     "text": [
      "WARNING:tensorflow:Skipping full serialization of Keras layer <keras.src.layers.regularization.dropout.Dropout object at 0x0000018873F69610>, because it is not built.\n"
     ]
    },
    {
     "name": "stdout",
     "output_type": "stream",
     "text": [
      "INFO:tensorflow:Assets written to: output\\bestmodel.tf\\assets\n"
     ]
    },
    {
     "name": "stderr",
     "output_type": "stream",
     "text": [
      "INFO:tensorflow:Assets written to: output\\bestmodel.tf\\assets\n"
     ]
    },
    {
     "name": "stdout",
     "output_type": "stream",
     "text": [
      "19/19 [==============================] - 2s 132ms/step - loss: 0.2483 - accuracy: 0.9785 - val_loss: 0.2427 - val_accuracy: 0.9908\n",
      "Epoch 63/200\n",
      " 1/19 [>.............................] - ETA: 0s - loss: 0.2422 - accuracy: 1.0000WARNING:tensorflow:Skipping full serialization of Keras layer <keras.src.layers.regularization.dropout.Dropout object at 0x0000018873F69610>, because it is not built.\n"
     ]
    },
    {
     "name": "stderr",
     "output_type": "stream",
     "text": [
      "WARNING:tensorflow:Skipping full serialization of Keras layer <keras.src.layers.regularization.dropout.Dropout object at 0x0000018873F69610>, because it is not built.\n"
     ]
    },
    {
     "name": "stdout",
     "output_type": "stream",
     "text": [
      "INFO:tensorflow:Assets written to: output\\bestmodel.tf\\assets\n"
     ]
    },
    {
     "name": "stderr",
     "output_type": "stream",
     "text": [
      "INFO:tensorflow:Assets written to: output\\bestmodel.tf\\assets\n"
     ]
    },
    {
     "name": "stdout",
     "output_type": "stream",
     "text": [
      "19/19 [==============================] - 2s 85ms/step - loss: 0.2440 - accuracy: 0.9769 - val_loss: 0.2313 - val_accuracy: 0.9908\n",
      "Epoch 64/200\n",
      "19/19 [==============================] - 0s 4ms/step - loss: 0.2421 - accuracy: 0.9851 - val_loss: 0.2349 - val_accuracy: 0.9908\n",
      "Epoch 65/200\n",
      "19/19 [==============================] - 0s 5ms/step - loss: 0.2404 - accuracy: 0.9851 - val_loss: 0.2324 - val_accuracy: 0.9908\n",
      "Epoch 66/200\n",
      "19/19 [==============================] - 0s 5ms/step - loss: 0.2384 - accuracy: 0.9835 - val_loss: 0.2381 - val_accuracy: 0.9817\n",
      "Epoch 67/200\n",
      " 1/19 [>.............................] - ETA: 0s - loss: 0.2232 - accuracy: 1.0000WARNING:tensorflow:Skipping full serialization of Keras layer <keras.src.layers.regularization.dropout.Dropout object at 0x0000018873F69610>, because it is not built.\n"
     ]
    },
    {
     "name": "stderr",
     "output_type": "stream",
     "text": [
      "WARNING:tensorflow:Skipping full serialization of Keras layer <keras.src.layers.regularization.dropout.Dropout object at 0x0000018873F69610>, because it is not built.\n"
     ]
    },
    {
     "name": "stdout",
     "output_type": "stream",
     "text": [
      "INFO:tensorflow:Assets written to: output\\bestmodel.tf\\assets\n"
     ]
    },
    {
     "name": "stderr",
     "output_type": "stream",
     "text": [
      "INFO:tensorflow:Assets written to: output\\bestmodel.tf\\assets\n"
     ]
    },
    {
     "name": "stdout",
     "output_type": "stream",
     "text": [
      "19/19 [==============================] - 2s 83ms/step - loss: 0.2374 - accuracy: 0.9868 - val_loss: 0.2272 - val_accuracy: 0.9908\n",
      "Epoch 68/200\n",
      " 1/19 [>.............................] - ETA: 0s - loss: 0.2427 - accuracy: 1.0000WARNING:tensorflow:Skipping full serialization of Keras layer <keras.src.layers.regularization.dropout.Dropout object at 0x0000018873F69610>, because it is not built.\n"
     ]
    },
    {
     "name": "stderr",
     "output_type": "stream",
     "text": [
      "WARNING:tensorflow:Skipping full serialization of Keras layer <keras.src.layers.regularization.dropout.Dropout object at 0x0000018873F69610>, because it is not built.\n"
     ]
    },
    {
     "name": "stdout",
     "output_type": "stream",
     "text": [
      "INFO:tensorflow:Assets written to: output\\bestmodel.tf\\assets\n"
     ]
    },
    {
     "name": "stderr",
     "output_type": "stream",
     "text": [
      "INFO:tensorflow:Assets written to: output\\bestmodel.tf\\assets\n"
     ]
    },
    {
     "name": "stdout",
     "output_type": "stream",
     "text": [
      "19/19 [==============================] - 1s 79ms/step - loss: 0.2328 - accuracy: 0.9851 - val_loss: 0.2256 - val_accuracy: 0.9908\n",
      "Epoch 69/200\n",
      "18/19 [===========================>..] - ETA: 0s - loss: 0.2331 - accuracy: 0.9809WARNING:tensorflow:Skipping full serialization of Keras layer <keras.src.layers.regularization.dropout.Dropout object at 0x0000018873F69610>, because it is not built.\n"
     ]
    },
    {
     "name": "stderr",
     "output_type": "stream",
     "text": [
      "WARNING:tensorflow:Skipping full serialization of Keras layer <keras.src.layers.regularization.dropout.Dropout object at 0x0000018873F69610>, because it is not built.\n"
     ]
    },
    {
     "name": "stdout",
     "output_type": "stream",
     "text": [
      "INFO:tensorflow:Assets written to: output\\bestmodel.tf\\assets\n"
     ]
    },
    {
     "name": "stderr",
     "output_type": "stream",
     "text": [
      "INFO:tensorflow:Assets written to: output\\bestmodel.tf\\assets\n"
     ]
    },
    {
     "name": "stdout",
     "output_type": "stream",
     "text": [
      "19/19 [==============================] - 2s 87ms/step - loss: 0.2320 - accuracy: 0.9818 - val_loss: 0.2225 - val_accuracy: 0.9725\n",
      "Epoch 70/200\n",
      "19/19 [==============================] - 0s 4ms/step - loss: 0.2315 - accuracy: 0.9835 - val_loss: 0.2242 - val_accuracy: 0.9817\n",
      "Epoch 71/200\n",
      "19/19 [==============================] - 0s 4ms/step - loss: 0.2281 - accuracy: 0.9868 - val_loss: 0.2254 - val_accuracy: 0.9908\n",
      "Epoch 72/200\n",
      "19/19 [==============================] - 0s 5ms/step - loss: 0.2266 - accuracy: 0.9901 - val_loss: 0.2293 - val_accuracy: 0.9817\n",
      "Epoch 73/200\n",
      "18/19 [===========================>..] - ETA: 0s - loss: 0.2272 - accuracy: 0.9861WARNING:tensorflow:Skipping full serialization of Keras layer <keras.src.layers.regularization.dropout.Dropout object at 0x0000018873F69610>, because it is not built.\n"
     ]
    },
    {
     "name": "stderr",
     "output_type": "stream",
     "text": [
      "WARNING:tensorflow:Skipping full serialization of Keras layer <keras.src.layers.regularization.dropout.Dropout object at 0x0000018873F69610>, because it is not built.\n"
     ]
    },
    {
     "name": "stdout",
     "output_type": "stream",
     "text": [
      "INFO:tensorflow:Assets written to: output\\bestmodel.tf\\assets\n"
     ]
    },
    {
     "name": "stderr",
     "output_type": "stream",
     "text": [
      "INFO:tensorflow:Assets written to: output\\bestmodel.tf\\assets\n"
     ]
    },
    {
     "name": "stdout",
     "output_type": "stream",
     "text": [
      "19/19 [==============================] - 2s 88ms/step - loss: 0.2249 - accuracy: 0.9868 - val_loss: 0.2216 - val_accuracy: 0.9817\n",
      "Epoch 74/200\n",
      "19/19 [==============================] - 0s 5ms/step - loss: 0.2237 - accuracy: 0.9818 - val_loss: 0.2231 - val_accuracy: 0.9908\n",
      "Epoch 75/200\n",
      "19/19 [==============================] - 0s 4ms/step - loss: 0.2221 - accuracy: 0.9884 - val_loss: 0.2223 - val_accuracy: 0.9817\n",
      "Epoch 76/200\n",
      " 1/19 [>.............................] - ETA: 0s - loss: 0.2064 - accuracy: 1.0000WARNING:tensorflow:Skipping full serialization of Keras layer <keras.src.layers.regularization.dropout.Dropout object at 0x0000018873F69610>, because it is not built.\n"
     ]
    },
    {
     "name": "stderr",
     "output_type": "stream",
     "text": [
      "WARNING:tensorflow:Skipping full serialization of Keras layer <keras.src.layers.regularization.dropout.Dropout object at 0x0000018873F69610>, because it is not built.\n"
     ]
    },
    {
     "name": "stdout",
     "output_type": "stream",
     "text": [
      "INFO:tensorflow:Assets written to: output\\bestmodel.tf\\assets\n"
     ]
    },
    {
     "name": "stderr",
     "output_type": "stream",
     "text": [
      "INFO:tensorflow:Assets written to: output\\bestmodel.tf\\assets\n"
     ]
    },
    {
     "name": "stdout",
     "output_type": "stream",
     "text": [
      "19/19 [==============================] - 1s 78ms/step - loss: 0.2221 - accuracy: 0.9818 - val_loss: 0.2194 - val_accuracy: 0.9908\n",
      "Epoch 77/200\n",
      "19/19 [==============================] - 0s 6ms/step - loss: 0.2182 - accuracy: 0.9835 - val_loss: 0.2277 - val_accuracy: 0.9817\n",
      "Epoch 78/200\n",
      "19/19 [==============================] - 0s 4ms/step - loss: 0.2173 - accuracy: 0.9884 - val_loss: 0.2266 - val_accuracy: 0.9817\n",
      "Epoch 79/200\n",
      " 1/19 [>.............................] - ETA: 0s - loss: 0.2206 - accuracy: 1.0000WARNING:tensorflow:Skipping full serialization of Keras layer <keras.src.layers.regularization.dropout.Dropout object at 0x0000018873F69610>, because it is not built.\n"
     ]
    },
    {
     "name": "stderr",
     "output_type": "stream",
     "text": [
      "WARNING:tensorflow:Skipping full serialization of Keras layer <keras.src.layers.regularization.dropout.Dropout object at 0x0000018873F69610>, because it is not built.\n"
     ]
    },
    {
     "name": "stdout",
     "output_type": "stream",
     "text": [
      "INFO:tensorflow:Assets written to: output\\bestmodel.tf\\assets\n"
     ]
    },
    {
     "name": "stderr",
     "output_type": "stream",
     "text": [
      "INFO:tensorflow:Assets written to: output\\bestmodel.tf\\assets\n"
     ]
    },
    {
     "name": "stdout",
     "output_type": "stream",
     "text": [
      "19/19 [==============================] - 1s 82ms/step - loss: 0.2167 - accuracy: 0.9818 - val_loss: 0.2118 - val_accuracy: 0.9908\n",
      "Epoch 80/200\n",
      " 1/19 [>.............................] - ETA: 0s - loss: 0.2189 - accuracy: 0.9688WARNING:tensorflow:Skipping full serialization of Keras layer <keras.src.layers.regularization.dropout.Dropout object at 0x0000018873F69610>, because it is not built.\n"
     ]
    },
    {
     "name": "stderr",
     "output_type": "stream",
     "text": [
      "WARNING:tensorflow:Skipping full serialization of Keras layer <keras.src.layers.regularization.dropout.Dropout object at 0x0000018873F69610>, because it is not built.\n"
     ]
    },
    {
     "name": "stdout",
     "output_type": "stream",
     "text": [
      "INFO:tensorflow:Assets written to: output\\bestmodel.tf\\assets\n"
     ]
    },
    {
     "name": "stderr",
     "output_type": "stream",
     "text": [
      "INFO:tensorflow:Assets written to: output\\bestmodel.tf\\assets\n"
     ]
    },
    {
     "name": "stdout",
     "output_type": "stream",
     "text": [
      "19/19 [==============================] - 1s 83ms/step - loss: 0.2137 - accuracy: 0.9851 - val_loss: 0.2108 - val_accuracy: 0.9725\n",
      "Epoch 81/200\n",
      "19/19 [==============================] - 0s 4ms/step - loss: 0.2148 - accuracy: 0.9851 - val_loss: 0.2190 - val_accuracy: 0.9908\n",
      "Epoch 82/200\n",
      " 1/19 [>.............................] - ETA: 0s - loss: 0.2265 - accuracy: 1.0000WARNING:tensorflow:Skipping full serialization of Keras layer <keras.src.layers.regularization.dropout.Dropout object at 0x0000018873F69610>, because it is not built.\n"
     ]
    },
    {
     "name": "stderr",
     "output_type": "stream",
     "text": [
      "WARNING:tensorflow:Skipping full serialization of Keras layer <keras.src.layers.regularization.dropout.Dropout object at 0x0000018873F69610>, because it is not built.\n"
     ]
    },
    {
     "name": "stdout",
     "output_type": "stream",
     "text": [
      "INFO:tensorflow:Assets written to: output\\bestmodel.tf\\assets\n"
     ]
    },
    {
     "name": "stderr",
     "output_type": "stream",
     "text": [
      "INFO:tensorflow:Assets written to: output\\bestmodel.tf\\assets\n"
     ]
    },
    {
     "name": "stdout",
     "output_type": "stream",
     "text": [
      "19/19 [==============================] - 1s 79ms/step - loss: 0.2115 - accuracy: 0.9884 - val_loss: 0.2036 - val_accuracy: 1.0000\n",
      "Epoch 83/200\n",
      "19/19 [==============================] - 0s 4ms/step - loss: 0.2124 - accuracy: 0.9818 - val_loss: 0.2082 - val_accuracy: 0.9908\n",
      "Epoch 84/200\n",
      "19/19 [==============================] - 0s 4ms/step - loss: 0.2088 - accuracy: 0.9868 - val_loss: 0.2212 - val_accuracy: 0.9908\n",
      "Epoch 85/200\n",
      "19/19 [==============================] - 0s 4ms/step - loss: 0.2092 - accuracy: 0.9884 - val_loss: 0.2210 - val_accuracy: 0.9633\n",
      "Epoch 86/200\n",
      "19/19 [==============================] - 0s 4ms/step - loss: 0.2096 - accuracy: 0.9802 - val_loss: 0.2093 - val_accuracy: 0.9908\n",
      "Epoch 87/200\n",
      "19/19 [==============================] - 0s 4ms/step - loss: 0.2046 - accuracy: 0.9884 - val_loss: 0.2067 - val_accuracy: 0.9817\n",
      "Epoch 88/200\n",
      " 1/19 [>.............................] - ETA: 0s - loss: 0.1673 - accuracy: 1.0000WARNING:tensorflow:Skipping full serialization of Keras layer <keras.src.layers.regularization.dropout.Dropout object at 0x0000018873F69610>, because it is not built.\n"
     ]
    },
    {
     "name": "stderr",
     "output_type": "stream",
     "text": [
      "WARNING:tensorflow:Skipping full serialization of Keras layer <keras.src.layers.regularization.dropout.Dropout object at 0x0000018873F69610>, because it is not built.\n"
     ]
    },
    {
     "name": "stdout",
     "output_type": "stream",
     "text": [
      "INFO:tensorflow:Assets written to: output\\bestmodel.tf\\assets\n"
     ]
    },
    {
     "name": "stderr",
     "output_type": "stream",
     "text": [
      "INFO:tensorflow:Assets written to: output\\bestmodel.tf\\assets\n"
     ]
    },
    {
     "name": "stdout",
     "output_type": "stream",
     "text": [
      "19/19 [==============================] - 1s 82ms/step - loss: 0.2060 - accuracy: 0.9802 - val_loss: 0.2006 - val_accuracy: 0.9908\n",
      "Epoch 89/200\n",
      "19/19 [==============================] - 0s 4ms/step - loss: 0.2052 - accuracy: 0.9868 - val_loss: 0.2039 - val_accuracy: 0.9908\n",
      "Epoch 90/200\n",
      "19/19 [==============================] - 0s 5ms/step - loss: 0.2038 - accuracy: 0.9884 - val_loss: 0.2172 - val_accuracy: 0.9908\n",
      "Epoch 91/200\n",
      "19/19 [==============================] - 0s 4ms/step - loss: 0.2016 - accuracy: 0.9868 - val_loss: 0.2034 - val_accuracy: 0.9908\n",
      "Epoch 92/200\n",
      "19/19 [==============================] - 0s 4ms/step - loss: 0.2007 - accuracy: 0.9884 - val_loss: 0.2157 - val_accuracy: 0.9908\n",
      "Epoch 93/200\n",
      "19/19 [==============================] - 0s 5ms/step - loss: 0.2002 - accuracy: 0.9917 - val_loss: 0.2030 - val_accuracy: 0.9817\n",
      "Epoch 94/200\n",
      " 1/19 [>.............................] - ETA: 0s - loss: 0.1773 - accuracy: 1.0000WARNING:tensorflow:Skipping full serialization of Keras layer <keras.src.layers.regularization.dropout.Dropout object at 0x0000018873F69610>, because it is not built.\n"
     ]
    },
    {
     "name": "stderr",
     "output_type": "stream",
     "text": [
      "WARNING:tensorflow:Skipping full serialization of Keras layer <keras.src.layers.regularization.dropout.Dropout object at 0x0000018873F69610>, because it is not built.\n"
     ]
    },
    {
     "name": "stdout",
     "output_type": "stream",
     "text": [
      "INFO:tensorflow:Assets written to: output\\bestmodel.tf\\assets\n"
     ]
    },
    {
     "name": "stderr",
     "output_type": "stream",
     "text": [
      "INFO:tensorflow:Assets written to: output\\bestmodel.tf\\assets\n"
     ]
    },
    {
     "name": "stdout",
     "output_type": "stream",
     "text": [
      "19/19 [==============================] - 1s 82ms/step - loss: 0.1982 - accuracy: 0.9884 - val_loss: 0.1971 - val_accuracy: 1.0000\n",
      "Epoch 95/200\n",
      "19/19 [==============================] - 0s 5ms/step - loss: 0.1989 - accuracy: 0.9884 - val_loss: 0.2085 - val_accuracy: 0.9817\n",
      "Epoch 96/200\n",
      "19/19 [==============================] - 0s 4ms/step - loss: 0.1958 - accuracy: 0.9901 - val_loss: 0.1988 - val_accuracy: 0.9908\n",
      "Epoch 97/200\n",
      " 1/19 [>.............................] - ETA: 0s - loss: 0.2154 - accuracy: 0.9688WARNING:tensorflow:Skipping full serialization of Keras layer <keras.src.layers.regularization.dropout.Dropout object at 0x0000018873F69610>, because it is not built.\n"
     ]
    },
    {
     "name": "stderr",
     "output_type": "stream",
     "text": [
      "WARNING:tensorflow:Skipping full serialization of Keras layer <keras.src.layers.regularization.dropout.Dropout object at 0x0000018873F69610>, because it is not built.\n"
     ]
    },
    {
     "name": "stdout",
     "output_type": "stream",
     "text": [
      "INFO:tensorflow:Assets written to: output\\bestmodel.tf\\assets\n"
     ]
    },
    {
     "name": "stderr",
     "output_type": "stream",
     "text": [
      "INFO:tensorflow:Assets written to: output\\bestmodel.tf\\assets\n"
     ]
    },
    {
     "name": "stdout",
     "output_type": "stream",
     "text": [
      "19/19 [==============================] - 1s 78ms/step - loss: 0.1965 - accuracy: 0.9884 - val_loss: 0.1929 - val_accuracy: 1.0000\n",
      "Epoch 98/200\n",
      "19/19 [==============================] - 0s 4ms/step - loss: 0.1954 - accuracy: 0.9884 - val_loss: 0.2082 - val_accuracy: 0.9725\n",
      "Epoch 99/200\n",
      " 1/19 [>.............................] - ETA: 0s - loss: 0.2046 - accuracy: 0.9688WARNING:tensorflow:Skipping full serialization of Keras layer <keras.src.layers.regularization.dropout.Dropout object at 0x0000018873F69610>, because it is not built.\n"
     ]
    },
    {
     "name": "stderr",
     "output_type": "stream",
     "text": [
      "WARNING:tensorflow:Skipping full serialization of Keras layer <keras.src.layers.regularization.dropout.Dropout object at 0x0000018873F69610>, because it is not built.\n"
     ]
    },
    {
     "name": "stdout",
     "output_type": "stream",
     "text": [
      "INFO:tensorflow:Assets written to: output\\bestmodel.tf\\assets\n"
     ]
    },
    {
     "name": "stderr",
     "output_type": "stream",
     "text": [
      "INFO:tensorflow:Assets written to: output\\bestmodel.tf\\assets\n"
     ]
    },
    {
     "name": "stdout",
     "output_type": "stream",
     "text": [
      "19/19 [==============================] - 2s 130ms/step - loss: 0.1944 - accuracy: 0.9868 - val_loss: 0.1873 - val_accuracy: 1.0000\n",
      "Epoch 100/200\n",
      "19/19 [==============================] - 0s 5ms/step - loss: 0.1949 - accuracy: 0.9851 - val_loss: 0.2020 - val_accuracy: 0.9908\n",
      "Epoch 101/200\n",
      "19/19 [==============================] - 0s 4ms/step - loss: 0.1930 - accuracy: 0.9884 - val_loss: 0.2059 - val_accuracy: 0.9908\n",
      "Epoch 102/200\n",
      "19/19 [==============================] - 0s 5ms/step - loss: 0.1930 - accuracy: 0.9868 - val_loss: 0.1909 - val_accuracy: 0.9908\n",
      "Epoch 103/200\n",
      "19/19 [==============================] - 0s 4ms/step - loss: 0.1906 - accuracy: 0.9901 - val_loss: 0.2116 - val_accuracy: 0.9817\n",
      "Epoch 104/200\n",
      "19/19 [==============================] - 0s 4ms/step - loss: 0.1903 - accuracy: 0.9884 - val_loss: 0.2081 - val_accuracy: 0.9908\n",
      "Epoch 105/200\n",
      "19/19 [==============================] - 0s 5ms/step - loss: 0.1914 - accuracy: 0.9851 - val_loss: 0.2094 - val_accuracy: 0.9633\n",
      "Epoch 106/200\n",
      "19/19 [==============================] - 0s 4ms/step - loss: 0.1895 - accuracy: 0.9868 - val_loss: 0.1880 - val_accuracy: 0.9725\n",
      "Epoch 107/200\n",
      "19/19 [==============================] - 0s 5ms/step - loss: 0.1893 - accuracy: 0.9868 - val_loss: 0.2010 - val_accuracy: 0.9817\n",
      "Epoch 108/200\n",
      "19/19 [==============================] - 0s 4ms/step - loss: 0.1888 - accuracy: 0.9884 - val_loss: 0.1879 - val_accuracy: 0.9908\n",
      "Epoch 109/200\n",
      "19/19 [==============================] - 0s 4ms/step - loss: 0.1869 - accuracy: 0.9868 - val_loss: 0.1988 - val_accuracy: 0.9817\n",
      "Epoch 110/200\n",
      "19/19 [==============================] - 0s 4ms/step - loss: 0.1860 - accuracy: 0.9901 - val_loss: 0.1984 - val_accuracy: 0.9725\n",
      "Epoch 111/200\n",
      "19/19 [==============================] - 0s 6ms/step - loss: 0.1861 - accuracy: 0.9868 - val_loss: 0.2030 - val_accuracy: 0.9817\n",
      "Epoch 112/200\n",
      "19/19 [==============================] - 0s 6ms/step - loss: 0.1845 - accuracy: 0.9934 - val_loss: 0.1909 - val_accuracy: 0.9908\n",
      "Epoch 113/200\n",
      "19/19 [==============================] - 0s 5ms/step - loss: 0.1857 - accuracy: 0.9884 - val_loss: 0.1884 - val_accuracy: 0.9908\n",
      "Epoch 114/200\n",
      "19/19 [==============================] - 0s 4ms/step - loss: 0.1834 - accuracy: 0.9884 - val_loss: 0.1985 - val_accuracy: 0.9817\n",
      "Epoch 115/200\n",
      "19/19 [==============================] - 0s 5ms/step - loss: 0.1832 - accuracy: 0.9934 - val_loss: 0.1947 - val_accuracy: 0.9908\n",
      "Epoch 116/200\n",
      "19/19 [==============================] - 0s 4ms/step - loss: 0.1829 - accuracy: 0.9901 - val_loss: 0.1907 - val_accuracy: 0.9725\n",
      "Epoch 117/200\n",
      "19/19 [==============================] - 0s 5ms/step - loss: 0.1812 - accuracy: 0.9868 - val_loss: 0.1958 - val_accuracy: 0.9817\n",
      "Epoch 118/200\n",
      " 1/19 [>.............................] - ETA: 0s - loss: 0.1984 - accuracy: 1.0000WARNING:tensorflow:Skipping full serialization of Keras layer <keras.src.layers.regularization.dropout.Dropout object at 0x0000018873F69610>, because it is not built.\n"
     ]
    },
    {
     "name": "stderr",
     "output_type": "stream",
     "text": [
      "WARNING:tensorflow:Skipping full serialization of Keras layer <keras.src.layers.regularization.dropout.Dropout object at 0x0000018873F69610>, because it is not built.\n"
     ]
    },
    {
     "name": "stdout",
     "output_type": "stream",
     "text": [
      "INFO:tensorflow:Assets written to: output\\bestmodel.tf\\assets\n"
     ]
    },
    {
     "name": "stderr",
     "output_type": "stream",
     "text": [
      "INFO:tensorflow:Assets written to: output\\bestmodel.tf\\assets\n"
     ]
    },
    {
     "name": "stdout",
     "output_type": "stream",
     "text": [
      "19/19 [==============================] - 1s 79ms/step - loss: 0.1819 - accuracy: 0.9868 - val_loss: 0.1811 - val_accuracy: 0.9908\n",
      "Epoch 119/200\n",
      "19/19 [==============================] - 0s 4ms/step - loss: 0.1794 - accuracy: 0.9934 - val_loss: 0.1922 - val_accuracy: 0.9817\n",
      "Epoch 120/200\n",
      "19/19 [==============================] - 0s 4ms/step - loss: 0.1808 - accuracy: 0.9868 - val_loss: 0.1921 - val_accuracy: 0.9908\n",
      "Epoch 121/200\n",
      "19/19 [==============================] - 0s 4ms/step - loss: 0.1800 - accuracy: 0.9868 - val_loss: 0.1856 - val_accuracy: 0.9817\n",
      "Epoch 122/200\n",
      "19/19 [==============================] - 0s 4ms/step - loss: 0.1784 - accuracy: 0.9884 - val_loss: 0.1868 - val_accuracy: 0.9817\n",
      "Epoch 123/200\n",
      "19/19 [==============================] - 0s 4ms/step - loss: 0.1775 - accuracy: 0.9934 - val_loss: 0.1857 - val_accuracy: 0.9817\n",
      "Epoch 124/200\n",
      "19/19 [==============================] - 0s 4ms/step - loss: 0.1763 - accuracy: 0.9901 - val_loss: 0.2117 - val_accuracy: 0.9541\n",
      "Epoch 125/200\n",
      "19/19 [==============================] - 0s 4ms/step - loss: 0.1763 - accuracy: 0.9917 - val_loss: 0.1854 - val_accuracy: 0.9908\n",
      "Epoch 126/200\n",
      "19/19 [==============================] - 0s 4ms/step - loss: 0.1784 - accuracy: 0.9835 - val_loss: 0.1902 - val_accuracy: 0.9817\n",
      "Epoch 127/200\n",
      "19/19 [==============================] - 0s 5ms/step - loss: 0.1745 - accuracy: 0.9868 - val_loss: 0.1833 - val_accuracy: 0.9817\n",
      "Epoch 128/200\n",
      "19/19 [==============================] - 0s 6ms/step - loss: 0.1751 - accuracy: 0.9901 - val_loss: 0.1882 - val_accuracy: 0.9633\n",
      "Epoch 129/200\n",
      "19/19 [==============================] - 0s 6ms/step - loss: 0.1764 - accuracy: 0.9868 - val_loss: 0.1917 - val_accuracy: 0.9817\n",
      "Epoch 130/200\n",
      "19/19 [==============================] - 0s 4ms/step - loss: 0.1731 - accuracy: 0.9934 - val_loss: 0.2050 - val_accuracy: 0.9541\n",
      "Epoch 131/200\n",
      " 1/19 [>.............................] - ETA: 0s - loss: 0.1567 - accuracy: 1.0000WARNING:tensorflow:Skipping full serialization of Keras layer <keras.src.layers.regularization.dropout.Dropout object at 0x0000018873F69610>, because it is not built.\n"
     ]
    },
    {
     "name": "stderr",
     "output_type": "stream",
     "text": [
      "WARNING:tensorflow:Skipping full serialization of Keras layer <keras.src.layers.regularization.dropout.Dropout object at 0x0000018873F69610>, because it is not built.\n"
     ]
    },
    {
     "name": "stdout",
     "output_type": "stream",
     "text": [
      "INFO:tensorflow:Assets written to: output\\bestmodel.tf\\assets\n"
     ]
    },
    {
     "name": "stderr",
     "output_type": "stream",
     "text": [
      "INFO:tensorflow:Assets written to: output\\bestmodel.tf\\assets\n"
     ]
    },
    {
     "name": "stdout",
     "output_type": "stream",
     "text": [
      "19/19 [==============================] - 1s 78ms/step - loss: 0.1760 - accuracy: 0.9884 - val_loss: 0.1763 - val_accuracy: 0.9908\n",
      "Epoch 132/200\n",
      " 1/19 [>.............................] - ETA: 0s - loss: 0.1725 - accuracy: 0.9688WARNING:tensorflow:Skipping full serialization of Keras layer <keras.src.layers.regularization.dropout.Dropout object at 0x0000018873F69610>, because it is not built.\n"
     ]
    },
    {
     "name": "stderr",
     "output_type": "stream",
     "text": [
      "WARNING:tensorflow:Skipping full serialization of Keras layer <keras.src.layers.regularization.dropout.Dropout object at 0x0000018873F69610>, because it is not built.\n"
     ]
    },
    {
     "name": "stdout",
     "output_type": "stream",
     "text": [
      "INFO:tensorflow:Assets written to: output\\bestmodel.tf\\assets\n"
     ]
    },
    {
     "name": "stderr",
     "output_type": "stream",
     "text": [
      "INFO:tensorflow:Assets written to: output\\bestmodel.tf\\assets\n"
     ]
    },
    {
     "name": "stdout",
     "output_type": "stream",
     "text": [
      "19/19 [==============================] - 2s 83ms/step - loss: 0.1706 - accuracy: 0.9950 - val_loss: 0.1710 - val_accuracy: 0.9817\n",
      "Epoch 133/200\n",
      "19/19 [==============================] - 0s 4ms/step - loss: 0.1744 - accuracy: 0.9868 - val_loss: 0.1876 - val_accuracy: 0.9817\n",
      "Epoch 134/200\n",
      "19/19 [==============================] - 0s 4ms/step - loss: 0.1731 - accuracy: 0.9868 - val_loss: 0.1816 - val_accuracy: 0.9817\n",
      "Epoch 135/200\n",
      "19/19 [==============================] - 0s 4ms/step - loss: 0.1725 - accuracy: 0.9868 - val_loss: 0.1793 - val_accuracy: 0.9908\n",
      "Epoch 136/200\n",
      "19/19 [==============================] - 0s 4ms/step - loss: 0.1724 - accuracy: 0.9917 - val_loss: 0.1908 - val_accuracy: 0.9725\n",
      "Epoch 137/200\n",
      "19/19 [==============================] - 0s 4ms/step - loss: 0.1723 - accuracy: 0.9917 - val_loss: 0.1783 - val_accuracy: 0.9817\n",
      "Epoch 138/200\n",
      "19/19 [==============================] - 0s 4ms/step - loss: 0.1694 - accuracy: 0.9868 - val_loss: 0.1838 - val_accuracy: 0.9725\n",
      "Epoch 139/200\n",
      "19/19 [==============================] - 0s 4ms/step - loss: 0.1707 - accuracy: 0.9868 - val_loss: 0.1933 - val_accuracy: 0.9817\n",
      "Epoch 140/200\n",
      "19/19 [==============================] - 0s 5ms/step - loss: 0.1699 - accuracy: 0.9884 - val_loss: 0.1904 - val_accuracy: 0.9817\n",
      "Epoch 141/200\n",
      "19/19 [==============================] - 0s 4ms/step - loss: 0.1693 - accuracy: 0.9917 - val_loss: 0.1799 - val_accuracy: 0.9908\n",
      "Epoch 142/200\n",
      "19/19 [==============================] - 0s 5ms/step - loss: 0.1667 - accuracy: 0.9901 - val_loss: 0.1754 - val_accuracy: 0.9908\n",
      "Epoch 143/200\n",
      "19/19 [==============================] - 0s 4ms/step - loss: 0.1697 - accuracy: 0.9868 - val_loss: 0.1867 - val_accuracy: 0.9817\n",
      "Epoch 144/200\n",
      "19/19 [==============================] - 0s 5ms/step - loss: 0.1677 - accuracy: 0.9934 - val_loss: 0.1726 - val_accuracy: 0.9817\n",
      "Epoch 145/200\n",
      "19/19 [==============================] - 0s 4ms/step - loss: 0.1681 - accuracy: 0.9917 - val_loss: 0.1778 - val_accuracy: 0.9908\n",
      "Epoch 146/200\n",
      "19/19 [==============================] - 0s 4ms/step - loss: 0.1653 - accuracy: 0.9934 - val_loss: 0.1870 - val_accuracy: 0.9725\n",
      "Epoch 147/200\n",
      "19/19 [==============================] - 0s 4ms/step - loss: 0.1656 - accuracy: 0.9917 - val_loss: 0.1962 - val_accuracy: 0.9725\n",
      "Epoch 148/200\n",
      "19/19 [==============================] - 0s 4ms/step - loss: 0.1661 - accuracy: 0.9884 - val_loss: 0.1841 - val_accuracy: 0.9817\n",
      "Epoch 149/200\n",
      "19/19 [==============================] - 0s 4ms/step - loss: 0.1664 - accuracy: 0.9917 - val_loss: 0.1757 - val_accuracy: 0.9817\n",
      "Epoch 150/200\n",
      "19/19 [==============================] - 0s 4ms/step - loss: 0.1667 - accuracy: 0.9868 - val_loss: 0.1944 - val_accuracy: 0.9817\n",
      "Epoch 151/200\n",
      "19/19 [==============================] - 0s 4ms/step - loss: 0.1647 - accuracy: 0.9934 - val_loss: 0.1732 - val_accuracy: 0.9908\n",
      "Epoch 152/200\n",
      "19/19 [==============================] - 0s 4ms/step - loss: 0.1634 - accuracy: 0.9868 - val_loss: 0.1860 - val_accuracy: 0.9817\n",
      "Epoch 153/200\n",
      "19/19 [==============================] - 0s 4ms/step - loss: 0.1654 - accuracy: 0.9901 - val_loss: 0.1925 - val_accuracy: 0.9817\n",
      "Epoch 154/200\n",
      "19/19 [==============================] - 0s 4ms/step - loss: 0.1640 - accuracy: 0.9917 - val_loss: 0.2039 - val_accuracy: 0.9817\n",
      "Epoch 155/200\n",
      "19/19 [==============================] - 0s 4ms/step - loss: 0.1647 - accuracy: 0.9884 - val_loss: 0.1894 - val_accuracy: 0.9817\n",
      "Epoch 156/200\n",
      "19/19 [==============================] - 0s 4ms/step - loss: 0.1634 - accuracy: 0.9884 - val_loss: 0.2049 - val_accuracy: 0.9633\n",
      "Epoch 157/200\n",
      "19/19 [==============================] - 0s 4ms/step - loss: 0.1641 - accuracy: 0.9901 - val_loss: 0.1877 - val_accuracy: 0.9541\n",
      "Epoch 158/200\n",
      "19/19 [==============================] - 0s 5ms/step - loss: 0.1604 - accuracy: 0.9884 - val_loss: 0.1811 - val_accuracy: 0.9817\n",
      "Epoch 159/200\n",
      "19/19 [==============================] - 0s 4ms/step - loss: 0.1622 - accuracy: 0.9917 - val_loss: 0.1742 - val_accuracy: 0.9817\n",
      "Epoch 160/200\n",
      "19/19 [==============================] - ETA: 0s - loss: 0.1619 - accuracy: 0.9950WARNING:tensorflow:Skipping full serialization of Keras layer <keras.src.layers.regularization.dropout.Dropout object at 0x0000018873F69610>, because it is not built.\n"
     ]
    },
    {
     "name": "stderr",
     "output_type": "stream",
     "text": [
      "WARNING:tensorflow:Skipping full serialization of Keras layer <keras.src.layers.regularization.dropout.Dropout object at 0x0000018873F69610>, because it is not built.\n"
     ]
    },
    {
     "name": "stdout",
     "output_type": "stream",
     "text": [
      "INFO:tensorflow:Assets written to: output\\bestmodel.tf\\assets\n"
     ]
    },
    {
     "name": "stderr",
     "output_type": "stream",
     "text": [
      "INFO:tensorflow:Assets written to: output\\bestmodel.tf\\assets\n"
     ]
    },
    {
     "name": "stdout",
     "output_type": "stream",
     "text": [
      "19/19 [==============================] - 1s 82ms/step - loss: 0.1619 - accuracy: 0.9950 - val_loss: 0.1682 - val_accuracy: 0.9817\n",
      "Epoch 161/200\n",
      "19/19 [==============================] - 0s 5ms/step - loss: 0.1620 - accuracy: 0.9901 - val_loss: 0.1862 - val_accuracy: 0.9725\n",
      "Epoch 162/200\n",
      "19/19 [==============================] - 0s 4ms/step - loss: 0.1603 - accuracy: 0.9917 - val_loss: 0.1907 - val_accuracy: 0.9817\n",
      "Epoch 163/200\n",
      "19/19 [==============================] - 0s 6ms/step - loss: 0.1617 - accuracy: 0.9917 - val_loss: 0.1999 - val_accuracy: 0.9817\n",
      "Epoch 164/200\n",
      "19/19 [==============================] - 0s 4ms/step - loss: 0.1599 - accuracy: 0.9901 - val_loss: 0.1799 - val_accuracy: 0.9817\n",
      "Epoch 165/200\n",
      "19/19 [==============================] - 0s 4ms/step - loss: 0.1598 - accuracy: 0.9901 - val_loss: 0.1881 - val_accuracy: 0.9817\n",
      "Epoch 166/200\n",
      "19/19 [==============================] - 0s 4ms/step - loss: 0.1561 - accuracy: 0.9917 - val_loss: 0.1806 - val_accuracy: 0.9633\n",
      "Epoch 167/200\n",
      " 1/19 [>.............................] - ETA: 0s - loss: 0.1848 - accuracy: 0.9375WARNING:tensorflow:Skipping full serialization of Keras layer <keras.src.layers.regularization.dropout.Dropout object at 0x0000018873F69610>, because it is not built.\n"
     ]
    },
    {
     "name": "stderr",
     "output_type": "stream",
     "text": [
      "WARNING:tensorflow:Skipping full serialization of Keras layer <keras.src.layers.regularization.dropout.Dropout object at 0x0000018873F69610>, because it is not built.\n"
     ]
    },
    {
     "name": "stdout",
     "output_type": "stream",
     "text": [
      "INFO:tensorflow:Assets written to: output\\bestmodel.tf\\assets\n"
     ]
    },
    {
     "name": "stderr",
     "output_type": "stream",
     "text": [
      "INFO:tensorflow:Assets written to: output\\bestmodel.tf\\assets\n"
     ]
    },
    {
     "name": "stdout",
     "output_type": "stream",
     "text": [
      "19/19 [==============================] - 2s 82ms/step - loss: 0.1587 - accuracy: 0.9884 - val_loss: 0.1623 - val_accuracy: 0.9817\n",
      "Epoch 168/200\n",
      "19/19 [==============================] - 0s 4ms/step - loss: 0.1590 - accuracy: 0.9884 - val_loss: 0.1961 - val_accuracy: 0.9725\n",
      "Epoch 169/200\n",
      "19/19 [==============================] - 0s 5ms/step - loss: 0.1602 - accuracy: 0.9884 - val_loss: 0.1838 - val_accuracy: 0.9817\n",
      "Epoch 170/200\n",
      "19/19 [==============================] - 0s 5ms/step - loss: 0.1564 - accuracy: 0.9950 - val_loss: 0.1701 - val_accuracy: 0.9817\n",
      "Epoch 171/200\n",
      "19/19 [==============================] - 0s 5ms/step - loss: 0.1582 - accuracy: 0.9901 - val_loss: 0.1746 - val_accuracy: 0.9817\n",
      "Epoch 172/200\n",
      "19/19 [==============================] - 0s 6ms/step - loss: 0.1573 - accuracy: 0.9917 - val_loss: 0.1776 - val_accuracy: 0.9817\n",
      "Epoch 173/200\n",
      "19/19 [==============================] - 0s 5ms/step - loss: 0.1588 - accuracy: 0.9884 - val_loss: 0.1819 - val_accuracy: 0.9817\n",
      "Epoch 174/200\n",
      "19/19 [==============================] - 0s 5ms/step - loss: 0.1577 - accuracy: 0.9901 - val_loss: 0.1870 - val_accuracy: 0.9817\n",
      "Epoch 175/200\n",
      "19/19 [==============================] - 0s 5ms/step - loss: 0.1581 - accuracy: 0.9901 - val_loss: 0.1664 - val_accuracy: 0.9908\n",
      "Epoch 176/200\n",
      "19/19 [==============================] - 0s 5ms/step - loss: 0.1543 - accuracy: 0.9884 - val_loss: 0.1673 - val_accuracy: 0.9817\n",
      "Epoch 177/200\n",
      "19/19 [==============================] - 0s 5ms/step - loss: 0.1565 - accuracy: 0.9934 - val_loss: 0.1787 - val_accuracy: 0.9817\n",
      "Epoch 178/200\n",
      "19/19 [==============================] - 0s 4ms/step - loss: 0.1545 - accuracy: 0.9901 - val_loss: 0.1724 - val_accuracy: 0.9817\n",
      "Epoch 179/200\n",
      "19/19 [==============================] - 0s 5ms/step - loss: 0.1580 - accuracy: 0.9884 - val_loss: 0.1849 - val_accuracy: 0.9817\n",
      "Epoch 180/200\n",
      "19/19 [==============================] - 0s 6ms/step - loss: 0.1539 - accuracy: 0.9884 - val_loss: 0.1819 - val_accuracy: 0.9908\n",
      "Epoch 181/200\n",
      "19/19 [==============================] - 0s 4ms/step - loss: 0.1564 - accuracy: 0.9901 - val_loss: 0.1827 - val_accuracy: 0.9817\n",
      "Epoch 182/200\n",
      "19/19 [==============================] - 0s 5ms/step - loss: 0.1528 - accuracy: 0.9983 - val_loss: 0.1800 - val_accuracy: 0.9817\n",
      "Epoch 183/200\n",
      "19/19 [==============================] - 0s 5ms/step - loss: 0.1542 - accuracy: 0.9884 - val_loss: 0.2018 - val_accuracy: 0.9541\n",
      "Epoch 184/200\n",
      "19/19 [==============================] - 0s 5ms/step - loss: 0.1550 - accuracy: 0.9901 - val_loss: 0.1916 - val_accuracy: 0.9817\n",
      "Epoch 185/200\n",
      "19/19 [==============================] - 0s 6ms/step - loss: 0.1539 - accuracy: 0.9901 - val_loss: 0.1886 - val_accuracy: 0.9817\n",
      "Epoch 186/200\n",
      "19/19 [==============================] - 0s 4ms/step - loss: 0.1529 - accuracy: 0.9901 - val_loss: 0.1889 - val_accuracy: 0.9817\n",
      "Epoch 187/200\n",
      "19/19 [==============================] - 0s 6ms/step - loss: 0.1532 - accuracy: 0.9934 - val_loss: 0.1867 - val_accuracy: 0.9817\n",
      "Epoch 188/200\n",
      "19/19 [==============================] - 0s 6ms/step - loss: 0.1515 - accuracy: 0.9868 - val_loss: 0.1886 - val_accuracy: 0.9817\n",
      "Epoch 189/200\n",
      "19/19 [==============================] - 0s 7ms/step - loss: 0.1529 - accuracy: 0.9868 - val_loss: 0.1669 - val_accuracy: 0.9817\n",
      "Epoch 190/200\n",
      "19/19 [==============================] - 0s 6ms/step - loss: 0.1548 - accuracy: 0.9868 - val_loss: 0.1851 - val_accuracy: 0.9817\n",
      "Epoch 191/200\n",
      "19/19 [==============================] - 0s 5ms/step - loss: 0.1502 - accuracy: 0.9934 - val_loss: 0.1741 - val_accuracy: 0.9817\n",
      "Epoch 192/200\n",
      "19/19 [==============================] - 0s 5ms/step - loss: 0.1512 - accuracy: 0.9917 - val_loss: 0.1758 - val_accuracy: 0.9633\n",
      "Epoch 193/200\n",
      "19/19 [==============================] - 0s 5ms/step - loss: 0.1507 - accuracy: 0.9884 - val_loss: 0.1704 - val_accuracy: 0.9633\n",
      "Epoch 194/200\n",
      " 1/19 [>.............................] - ETA: 0s - loss: 0.1978 - accuracy: 0.9375WARNING:tensorflow:Skipping full serialization of Keras layer <keras.src.layers.regularization.dropout.Dropout object at 0x0000018873F69610>, because it is not built.\n"
     ]
    },
    {
     "name": "stderr",
     "output_type": "stream",
     "text": [
      "WARNING:tensorflow:Skipping full serialization of Keras layer <keras.src.layers.regularization.dropout.Dropout object at 0x0000018873F69610>, because it is not built.\n"
     ]
    },
    {
     "name": "stdout",
     "output_type": "stream",
     "text": [
      "INFO:tensorflow:Assets written to: output\\bestmodel.tf\\assets\n"
     ]
    },
    {
     "name": "stderr",
     "output_type": "stream",
     "text": [
      "INFO:tensorflow:Assets written to: output\\bestmodel.tf\\assets\n"
     ]
    },
    {
     "name": "stdout",
     "output_type": "stream",
     "text": [
      "19/19 [==============================] - 2s 83ms/step - loss: 0.1505 - accuracy: 0.9884 - val_loss: 0.1582 - val_accuracy: 0.9725\n",
      "Epoch 195/200\n",
      "19/19 [==============================] - 0s 5ms/step - loss: 0.1529 - accuracy: 0.9901 - val_loss: 0.1648 - val_accuracy: 0.9817\n",
      "Epoch 196/200\n",
      " 1/19 [>.............................] - ETA: 0s - loss: 0.1518 - accuracy: 1.0000WARNING:tensorflow:Skipping full serialization of Keras layer <keras.src.layers.regularization.dropout.Dropout object at 0x0000018873F69610>, because it is not built.\n"
     ]
    },
    {
     "name": "stderr",
     "output_type": "stream",
     "text": [
      "WARNING:tensorflow:Skipping full serialization of Keras layer <keras.src.layers.regularization.dropout.Dropout object at 0x0000018873F69610>, because it is not built.\n"
     ]
    },
    {
     "name": "stdout",
     "output_type": "stream",
     "text": [
      "INFO:tensorflow:Assets written to: output\\bestmodel.tf\\assets\n"
     ]
    },
    {
     "name": "stderr",
     "output_type": "stream",
     "text": [
      "INFO:tensorflow:Assets written to: output\\bestmodel.tf\\assets\n"
     ]
    },
    {
     "name": "stdout",
     "output_type": "stream",
     "text": [
      "19/19 [==============================] - 2s 90ms/step - loss: 0.1501 - accuracy: 0.9917 - val_loss: 0.1564 - val_accuracy: 0.9908\n",
      "Epoch 197/200\n",
      "19/19 [==============================] - 0s 5ms/step - loss: 0.1482 - accuracy: 0.9917 - val_loss: 0.2018 - val_accuracy: 0.9725\n",
      "Epoch 198/200\n",
      "19/19 [==============================] - 0s 5ms/step - loss: 0.1496 - accuracy: 0.9901 - val_loss: 0.1699 - val_accuracy: 0.9817\n",
      "Epoch 199/200\n",
      "19/19 [==============================] - 0s 5ms/step - loss: 0.1490 - accuracy: 0.9917 - val_loss: 0.1571 - val_accuracy: 0.9908\n",
      "Epoch 200/200\n",
      "19/19 [==============================] - 0s 5ms/step - loss: 0.1487 - accuracy: 0.9901 - val_loss: 0.1596 - val_accuracy: 0.9817\n"
     ]
    }
   ],
   "source": [
    "# Define the Keras TensorBoard callback.\n",
    "logdir=\"logs/fit/\" + datetime.now().strftime(\"%Y%m%d-%H%M%S\")\n",
    "tensorboard_callback = keras.callbacks.TensorBoard(log_dir=logdir)\n",
    "mcp_save = ModelCheckpoint('output/bestmodel.tf', save_best_only=True, monitor='val_loss', mode='min')\n",
    "\n",
    "history=model1.fit(\n",
    "    train_features, train_labels,\n",
    "     validation_data=(X_val, Y_val),\n",
    "    verbose=1,batch_size=32, epochs=200,callbacks=[tensorboard_callback, mcp_save])\n"
   ]
  },
  {
   "cell_type": "code",
   "execution_count": 231,
   "metadata": {
    "id": "4KUIC2kN8czH"
   },
   "outputs": [
    {
     "data": {
      "image/png": "[encoded data removed]",
      "text/plain": [
       "<Figure size 640x480 with 1 Axes>"
      ]
     },
     "metadata": {},
     "output_type": "display_data"
    }
   ],
   "source": [
    "#plot loss\n",
    "def plot_loss(history):\n",
    "  plt.plot(history.history['loss'], label='Train_loss')\n",
    "  plt.plot(history.history['val_loss'], label='val_loss')\n",
    "  plt.ylim([0, 1])\n",
    "  plt.xlabel('Epoch')\n",
    "  plt.ylabel('Error [Diabetes]')\n",
    "  plt.legend()\n",
    "  plt.grid(True)\n",
    "\n",
    "plot_loss(history)"
   ]
  },
  {
   "cell_type": "code",
   "execution_count": 232,
   "metadata": {},
   "outputs": [
    {
     "data": {
      "image/png": "[encoded data removed]",
      "text/plain": [
       "<Figure size 640x480 with 1 Axes>"
      ]
     },
     "metadata": {},
     "output_type": "display_data"
    }
   ],
   "source": [
    "#plot accuracy\n",
    "def plot_loss(history):\n",
    "  plt.plot(history.history['accuracy'], label='Train_accuracy')\n",
    "  plt.plot(history.history['val_accuracy'], label='val_accuracy')\n",
    "  plt.ylim([0, 1])\n",
    "  plt.xlabel('Epoch')\n",
    "  plt.ylabel('Accuracy [Diabetes]')\n",
    "  plt.legend()\n",
    "  plt.grid(True)\n",
    "plot_loss(history)"
   ]
  },
  {
   "cell_type": "code",
   "execution_count": 233,
   "metadata": {},
   "outputs": [],
   "source": [
    "#Save model\n",
    "# #model1.save('DLmodelm.tf')\n",
    "# model_loaded = tf.keras.models.load_model('output/bestmodel.tf')\n"
   ]
  },
  {
   "cell_type": "code",
   "execution_count": 246,
   "metadata": {},
   "outputs": [
    {
     "name": "stdout",
     "output_type": "stream",
     "text": [
      "4/4 [==============================] - 0s 2ms/step\n",
      "              precision    recall  f1-score   support\n",
      "\n",
      "           0  1.00000000 0.95833333 0.97872340        24\n",
      "           1  0.97222222 0.94594595 0.95890411        37\n",
      "           2  0.96078431 1.00000000 0.98000000        49\n",
      "\n",
      "   micro avg  0.97272727 0.97272727 0.97272727       110\n",
      "   macro avg  0.97766885 0.96809309 0.97254250       110\n",
      "weighted avg  0.97318776 0.97272727 0.97262558       110\n",
      " samples avg  0.97272727 0.97272727 0.97272727       110\n",
      "\n"
     ]
    }
   ],
   "source": [
    "#Evaluation\n",
    "# Prediction\n",
    "prediction = np.around(model1.predict(X_test))\n",
    "print(metrics.classification_report(Y_test,prediction, digits=8))"
   ]
  },
  {
   "cell_type": "code",
   "execution_count": 247,
   "metadata": {
    "colab": {
     "base_uri": "https://localhost:8080/"
    },
    "id": "WGO2-sR790An",
    "outputId": "d74e9bef-1abc-41c3-bb7a-bf78942ae28e"
   },
   "outputs": [
    {
     "name": "stdout",
     "output_type": "stream",
     "text": [
      "4/4 [==============================] - 0s 2ms/step\n",
      "4/4 [==============================] - 0s 3ms/step - loss: 0.2301 - accuracy: 0.9727\n"
     ]
    }
   ],
   "source": [
    "# Use the forest's predict method on the test data\n",
    "predictions = model1.predict(X_test)\n",
    "\n",
    "# Calculate mean absolute errors\n",
    "score = model1.evaluate(X_test, Y_test,verbose=1)"
   ]
  },
  {
   "cell_type": "code",
   "execution_count": 248,
   "metadata": {},
   "outputs": [
    {
     "name": "stdout",
     "output_type": "stream",
     "text": [
      "19/19 [==============================] - 0s 2ms/step - loss: 0.1438 - accuracy: 0.9983\n",
      "Train acc:  [0.1438218653202057, 0.9983498454093933]\n",
      "4/4 [==============================] - 0s 6ms/step - loss: 0.2301 - accuracy: 0.9727\n",
      "Test acc:  [0.23011770844459534, 0.9727272987365723]\n"
     ]
    }
   ],
   "source": [
    "# Compare Prediction \n",
    "print(\"Train acc: \" , model1.evaluate(train_features, train_labels))\n",
    "print(\"Test acc: \", model1.evaluate(X_test, Y_test))"
   ]
  },
  {
   "cell_type": "code",
   "execution_count": 249,
   "metadata": {},
   "outputs": [],
   "source": [
    "y = np.reshape(prediction,(110,3))\n",
    "p  = np.argmax(y,axis=1)\n",
    "Y=np.argmax(Y_test, axis=1)"
   ]
  },
  {
   "cell_type": "code",
   "execution_count": null,
   "metadata": {},
   "outputs": [],
   "source": []
  },
  {
   "cell_type": "code",
   "execution_count": 250,
   "metadata": {},
   "outputs": [
    {
     "name": "stdout",
     "output_type": "stream",
     "text": [
      "[[23  1  0]\n",
      " [ 0 35  2]\n",
      " [ 0  0 49]]\n"
     ]
    }
   ],
   "source": [
    "# IMPORTANT: first argument is true values, second argument is predicted values\n",
    "# this produces a 2x2 numpy array (matrix)\n",
    "confusion = metrics.confusion_matrix(Y, p)\n",
    "print(confusion)"
   ]
  },
  {
   "cell_type": "code",
   "execution_count": 251,
   "metadata": {},
   "outputs": [
    {
     "name": "stdout",
     "output_type": "stream",
     "text": [
      "1/1 [==============================] - 0s 26ms/step\n"
     ]
    },
    {
     "data": {
      "text/plain": [
       "array([[9.9625790e-01, 5.2441794e-11, 3.7420965e-03]], dtype=float32)"
      ]
     },
     "execution_count": 251,
     "metadata": {},
     "output_type": "execute_result"
    }
   ],
   "source": [
    "new_df = pd.DataFrame([[80, 75, 232, 45]])\n",
    "# We predict insulin\n",
    "prediction = model1.predict(new_df)\n",
    "prediction"
   ]
  },
  {
   "cell_type": "code",
   "execution_count": 252,
   "metadata": {},
   "outputs": [
    {
     "data": {
      "image/png": "[encoded data removed]",
      "text/plain": [
       "<Figure size 640x480 with 1 Axes>"
      ]
     },
     "metadata": {},
     "output_type": "display_data"
    }
   ],
   "source": [
    "from sklearn.metrics import roc_curve, auc\n",
    "from sklearn.preprocessing import label_binarize\n",
    "import matplotlib.pyplot as plt\n",
    "import numpy as np\n",
    "\n",
    "# 假设预测概率保存在y_scores变量中，真实标签保存在y_true变量中\n",
    "y_scores = predictions\n",
    "y_true = y_true\n",
    "\n",
    "# 将多分类问题转化为二分类问题\n",
    "n_classes = 3\n",
    "y_bin = label_binarize(y_true, classes=np.arange(n_classes))\n",
    "\n",
    "fpr = dict()\n",
    "tpr = dict()\n",
    "roc_auc = dict()\n",
    "\n",
    "for i in range(n_classes):\n",
    "    fpr[i], tpr[i], _ = roc_curve(y_bin[:, i], y_scores[:, i])\n",
    "    roc_auc[i] = auc(fpr[i], tpr[i])\n",
    "\n",
    "# 计算微平均ROC曲线和AUC\n",
    "fpr[\"micro\"], tpr[\"micro\"], _ = roc_curve(y_bin.ravel(), y_scores.ravel())\n",
    "roc_auc[\"micro\"] = auc(fpr[\"micro\"], tpr[\"micro\"])\n",
    "\n",
    "# 绘制每个类别的ROC曲线\n",
    "plt.figure()\n",
    "colors = ['red', 'blue', 'green']\n",
    "for i, color in zip(range(n_classes), colors):\n",
    "    plt.plot(fpr[i], tpr[i], color=color, lw=2,\n",
    "             label='ROC curve of class {0} (area = {1:0.2f})'\n",
    "             ''.format(i, roc_auc[i]))\n",
    "\n",
    "# 绘制微平均ROC曲线\n",
    "plt.plot(fpr[\"micro\"], tpr[\"micro\"], color='deeppink', lw=2,\n",
    "         label='micro-average ROC curve (area = {0:0.2f})'\n",
    "         ''.format(roc_auc[\"micro\"]))\n",
    "\n",
    "plt.plot([0, 1], [0, 1], 'k--', lw=2)\n",
    "plt.xlim([0.0, 1.0])\n",
    "plt.ylim([0.0, 1.05])\n",
    "plt.xlabel('False Positive Rate')\n",
    "plt.ylabel('True Positive Rate')\n",
    "plt.title('Receiver Operating Characteristic (ROC)')\n",
    "plt.legend(loc=\"lower right\")\n",
    "plt.show()"
   ]
  },
  {
   "cell_type": "code",
   "execution_count": 253,
   "metadata": {},
   "outputs": [],
   "source": [
    "#Calculate metrics\n",
    "y_true = Y\n",
    "y_prediction = p\n",
    "cnf_matrix = confusion_matrix(y_true, y_prediction)\n",
    "\n",
    "FP = cnf_matrix.sum(axis=0) - np.diag(cnf_matrix)  \n",
    "FN = cnf_matrix.sum(axis=1) - np.diag(cnf_matrix)\n",
    "TP = np.diag(cnf_matrix)\n",
    "TN = cnf_matrix.sum() - (FP + FN + TP)\n",
    "\n",
    "FP = FP.astype(float)\n",
    "FN = FN.astype(float)\n",
    "TP = TP.astype(float)\n",
    "TN = TN.astype(float)\n",
    "\n",
    "# Sensitivity, hit rate, recall, or true positive rate\n",
    "TPR = TP/(TP+FN)\n",
    "# Specificity or true negative rate\n",
    "TNR = TN/(TN+FP) \n",
    "# Precision or positive predictive value\n",
    "PPV = TP/(TP+FP)\n",
    "# Negative predictive value\n",
    "NPV = TN/(TN+FN)\n",
    "# Fall out or false positive rate\n",
    "FPR = FP/(FP+TN)\n",
    "# False negative rate\n",
    "FNR = FN/(TP+FN)\n",
    "# False discovery rate\n",
    "FDR = FP/(TP+FP)\n",
    "# Overall accuracy\n",
    "ACC = (TP+TN)/(TP+FP+FN+TN)"
   ]
  },
  {
   "cell_type": "code",
   "execution_count": 254,
   "metadata": {},
   "outputs": [],
   "source": [
    "#Performance evaluation metrics\n",
    "def plot_confusion_matrix(cm, classes,\n",
    "                          normalize=False,\n",
    "                          cmap=plt.cm.Blues):\n",
    "    \"\"\"\n",
    "    This function prints and plots the confusion matrix.\n",
    "    Normalization can be applied by setting `normalize=True`.\n",
    "    \"\"\"\n",
    "    if normalize:\n",
    "        cm = cm.astype('float') / cm.sum(axis=1)[:, np.newaxis]\n",
    "        title='Normalized confusion matrix'\n",
    "    else:\n",
    "        title='Confusion matrix'\n",
    "\n",
    "    plt.imshow(cm, interpolation='nearest', cmap=cmap)\n",
    "    plt.title(title)\n",
    "    plt.colorbar()\n",
    "    tick_marks = np.arange(len(classes))\n",
    "    plt.xticks(tick_marks, classes, rotation=45)\n",
    "    plt.yticks(tick_marks, classes)\n",
    "\n",
    "    fmt = '.2f' if normalize else 'd'\n",
    "    thresh = cm.max() / 2.\n",
    "    for i, j in itertools.product(range(cm.shape[0]), range(cm.shape[1])):\n",
    "        plt.text(j, i, format(cm[i, j], fmt),\n",
    "                 horizontalalignment=\"center\",\n",
    "                 color=\"white\" if cm[i, j] > thresh else \"black\")\n",
    "\n",
    "    plt.tight_layout()\n",
    "    plt.ylabel('True label')\n",
    "    plt.xlabel('Predicted label')\n",
    "    plt.show()"
   ]
  },
  {
   "cell_type": "code",
   "execution_count": 255,
   "metadata": {},
   "outputs": [
    {
     "name": "stdout",
     "output_type": "stream",
     "text": [
      "The tensorboard extension is already loaded. To reload it, use:\n",
      "  %reload_ext tensorboard\n"
     ]
    },
    {
     "data": {
      "text/plain": [
       "Reusing TensorBoard on port 6006 (pid 13436), started 2 days, 1:07:10 ago. (Use '!kill 13436' to kill it.)"
      ]
     },
     "metadata": {},
     "output_type": "display_data"
    },
    {
     "data": {
      "text/html": [
       "\n",
       "      <iframe id=\"tensorboard-frame-2198a19330cd8d2b\" width=\"100%\" height=\"800\" frameborder=\"0\">\n",
       "      </iframe>\n",
       "      <script>\n",
       "        (function() {\n",
       "          const frame = document.getElementById(\"tensorboard-frame-2198a19330cd8d2b\");\n",
       "          const url = new URL(\"/\", window.location);\n",
       "          const port = 6006;\n",
       "          if (port) {\n",
       "            url.port = port;\n",
       "          }\n",
       "          frame.src = url;\n",
       "        })();\n",
       "      </script>\n",
       "    "
      ],
      "text/plain": [
       "<IPython.core.display.HTML object>"
      ]
     },
     "metadata": {},
     "output_type": "display_data"
    }
   ],
   "source": [
    "# Load the TensorBoard notebook extension.\n",
    "%load_ext tensorboard\n",
    "%tensorboard --logdir logs"
   ]
  },
  {
   "cell_type": "code",
   "execution_count": 244,
   "metadata": {},
   "outputs": [
    {
     "name": "stderr",
     "output_type": "stream",
     "text": [
      "2023-12-23 16:09:51.808474: I tensorflow/core/util/port.cc:113] oneDNN custom operations are on. You may see slightly different numerical results due to floating-point round-off errors from different computation orders. To turn them off, set the environment variable `TF_ENABLE_ONEDNN_OPTS=0`.\n",
      "WARNING:tensorflow:From C:\\Users\\Administrator\\AppData\\Roaming\\Python\\Python39\\site-packages\\keras\\src\\losses.py:2976: The name tf.losses.sparse_softmax_cross_entropy is deprecated. Please use tf.compat.v1.losses.sparse_softmax_cross_entropy instead.\n",
      "\n",
      "****************************************************************\n",
      "****************************************************************\n",
      "****************************************************************\n",
      "\n",
      "Uploading TensorBoard logs to https://tensorboard.dev/ is no longer\n",
      "supported.\n",
      "\n",
      "TensorBoard.dev is shutting down.\n",
      "\n",
      "Please export your experiments by Dec 31, 2023.\n",
      "\n",
      "See the FAQ at https://tensorboard.dev.\n",
      "\n",
      "****************************************************************\n",
      "****************************************************************\n",
      "****************************************************************\n"
     ]
    }
   ],
   "source": [
    "!tensorboard dev upload \\\n",
    "  --logdir logs \\\n",
    "  --name \"Sample op-level graph\" \\\n",
    "  --one_shot"
   ]
  },
  {
   "cell_type": "code",
   "execution_count": null,
   "metadata": {},
   "outputs": [],
   "source": [
    "data"
   ]
  },
  {
   "cell_type": "code",
   "execution_count": null,
   "metadata": {},
   "outputs": [],
   "source": []
  },
  {
   "cell_type": "code",
   "execution_count": null,
   "metadata": {},
   "outputs": [],
   "source": []
  },
  {
   "cell_type": "code",
   "execution_count": null,
   "metadata": {},
   "outputs": [],
   "source": []
  },
  {
   "cell_type": "code",
   "execution_count": null,
   "metadata": {},
   "outputs": [],
   "source": []
  },
  {
   "cell_type": "code",
   "execution_count": null,
   "metadata": {},
   "outputs": [],
   "source": []
  },
  {
   "cell_type": "code",
   "execution_count": null,
   "metadata": {},
   "outputs": [],
   "source": []
  },
  {
   "cell_type": "code",
   "execution_count": null,
   "metadata": {},
   "outputs": [],
   "source": []
  },
  {
   "cell_type": "code",
   "execution_count": null,
   "metadata": {},
   "outputs": [],
   "source": []
  },
  {
   "cell_type": "code",
   "execution_count": null,
   "metadata": {},
   "outputs": [],
   "source": []
  }
 ],
 "metadata": {
  "colab": {
   "collapsed_sections": [],
   "name": "DLdiabetes",
   "provenance": []
  },
  "kernelspec": {
   "display_name": "Python 3 (ipykernel)",
   "language": "python",
   "name": "python3"
  },
  "language_info": {
   "codemirror_mode": {
    "name": "ipython",
    "version": 3
   },
   "file_extension": ".py",
   "mimetype": "text/x-python",
   "name": "python",
   "nbconvert_exporter": "python",
   "pygments_lexer": "ipython3",
   "version": "3.9.18"
  }
 },
 "nbformat": 4,
 "nbformat_minor": 1
}
